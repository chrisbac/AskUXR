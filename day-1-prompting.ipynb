{
 "cells": [
  {
   "cell_type": "markdown",
   "id": "95aea028",
   "metadata": {
    "id": "jkxRSYjzA1oX",
    "papermill": {
     "duration": 0.013898,
     "end_time": "2025-04-02T20:39:35.073484",
     "exception": false,
     "start_time": "2025-04-02T20:39:35.059586",
     "status": "completed"
    },
    "tags": []
   },
   "source": [
    "##### Copyright 2025 Google LLC."
   ]
  },
  {
   "cell_type": "code",
   "execution_count": 1,
   "id": "21e06ffb",
   "metadata": {
    "cellView": "form",
    "execution": {
     "iopub.execute_input": "2025-04-02T20:39:35.101632Z",
     "iopub.status.busy": "2025-04-02T20:39:35.100708Z",
     "iopub.status.idle": "2025-04-02T20:39:35.106226Z",
     "shell.execute_reply": "2025-04-02T20:39:35.105478Z"
    },
    "id": "5u5OZ2ShA3BA",
    "jupyter": {
     "source_hidden": true
    },
    "papermill": {
     "duration": 0.022179,
     "end_time": "2025-04-02T20:39:35.108215",
     "exception": false,
     "start_time": "2025-04-02T20:39:35.086036",
     "status": "completed"
    },
    "tags": []
   },
   "outputs": [],
   "source": [
    "# @title Licensed under the Apache License, Version 2.0 (the \"License\");\n",
    "# you may not use this file except in compliance with the License.\n",
    "# You may obtain a copy of the License at\n",
    "#\n",
    "# https://www.apache.org/licenses/LICENSE-2.0\n",
    "#\n",
    "# Unless required by applicable law or agreed to in writing, software\n",
    "# distributed under the License is distributed on an \"AS IS\" BASIS,\n",
    "# WITHOUT WARRANTIES OR CONDITIONS OF ANY KIND, either express or implied.\n",
    "# See the License for the specific language governing permissions and\n",
    "# limitations under the License."
   ]
  },
  {
   "cell_type": "markdown",
   "id": "39ed39fc",
   "metadata": {
    "id": "csNPnkuCobmG",
    "papermill": {
     "duration": 0.011992,
     "end_time": "2025-04-02T20:39:35.132809",
     "exception": false,
     "start_time": "2025-04-02T20:39:35.120817",
     "status": "completed"
    },
    "tags": []
   },
   "source": [
    "# Day 1 - Prompting\n",
    "\n",
    "Welcome to the Kaggle 5-day Generative AI course!\n",
    "\n",
    "This notebook will show you how to get started with the Gemini API and walk you through some of the example prompts and techniques that you can also read about in the Prompting whitepaper. You don't need to read the whitepaper to use this notebook, but the papers will give you some theoretical context and background to complement this interactive notebook.\n",
    "\n",
    "\n",
    "## Before you begin\n",
    "\n",
    "In this notebook, you'll start exploring prompting using the Python SDK and AI Studio. For some inspiration, you might enjoy exploring some apps that have been built using the Gemini family of models. Here are a few that we like, and we think you will too.\n",
    "\n",
    "* [TextFX](https://textfx.withgoogle.com/) is a suite of AI-powered tools for rappers, made in collaboration with Lupe Fiasco,\n",
    "* [SQL Talk](https://sql-talk-r5gdynozbq-uc.a.run.app/) shows how you can talk directly to a database using the Gemini API,\n",
    "* [NotebookLM](https://notebooklm.google/) uses Gemini models to build your own personal AI research assistant.\n",
    "\n",
    "\n",
    "## For help\n",
    "\n",
    "**Common issues are covered in the [FAQ and troubleshooting guide](https://www.kaggle.com/code/markishere/day-0-troubleshooting-and-faqs).**\n",
    "\n",
    "## New for Gemini 2.0!\n",
    "\n",
    "This course material was first launched in November 2024. The AI and LLM space is moving incredibly fast, so we have made some updates to use the latest models and capabilities.\n",
    "\n",
    "* These codelabs have been updated to use the Gemini 2.0 family of models.\n",
    "* The Python SDK has been updated from `google-generativeai` to the new, unified [`google-genai`](https://pypi.org/project/google-genai) SDK.\n",
    "  * This new SDK works with both the developer Gemini API as well as Google Cloud Vertex AI, and switching is [as simple as changing some fields](https://pypi.org/project/google-genai/#:~:text=.Client%28%29-,API%20Selection,-By%20default%2C%20the).\n",
    "* New model capabilities have been added to the relevant codelabs, such as \"thinking mode\" in this lab.\n",
    "* Day 1 includes a new [Evaluation codelab](https://www.kaggle.com/code/markishere/day-1-evaluation-and-structured-output)."
   ]
  },
  {
   "attachments": {
    "d8299597-f771-4195-ac94-1d6f658ef2bd.png": {
     "image/png": "[encoded data removed]"
    },
    "ed25e346-2e15-4ab0-bc22-503eb1845e66.png": {
     "image/png": "[encoded data removed]"
    }
   },
   "cell_type": "markdown",
   "id": "bccfd07b",
   "metadata": {
    "id": "f00ea7c99e44",
    "papermill": {
     "duration": 0.011912,
     "end_time": "2025-04-02T20:39:35.157085",
     "exception": false,
     "start_time": "2025-04-02T20:39:35.145173",
     "status": "completed"
    },
    "tags": []
   },
   "source": [
    "## Get started with Kaggle notebooks\n",
    "\n",
    "If this is your first time using a Kaggle notebook, welcome! You can read about how to use Kaggle notebooks [in the docs](https://www.kaggle.com/docs/notebooks).\n",
    "\n",
    "First, you will need to phone verify your account at kaggle.com/settings.\n",
    "\n",
    "![](https://storage.googleapis.com/kaggle-media/Images/5dgai_0.png)"
   ]
  },
  {
   "cell_type": "markdown",
   "id": "6b95d351",
   "metadata": {
    "papermill": {
     "duration": 0.01214,
     "end_time": "2025-04-02T20:39:35.181489",
     "exception": false,
     "start_time": "2025-04-02T20:39:35.169349",
     "status": "completed"
    },
    "tags": []
   },
   "source": [
    "To run this notebook, as well as the others in this course, you will need to make a copy, or fork, the notebook. Look for the `Copy and Edit` button in the top-right, and **click it** to make an editable, private copy of the notebook. It should look like this one:\n",
    "\n",
    "![Copy and Edit button](https://storage.googleapis.com/kaggle-media/Images/5gdai_sc_1.png)\n",
    "\n",
    "Your copy will now have a ▶️ **Run** button next to each code cell that you can press to execute that cell. These notebooks are expected to be run in order from top-to-bottom, but you are encouraged to add new cells, run your own code and explore. If you get stuck, you can try the `Factory reset` option in the `Run` menu, or head back to the original notebook and make a fresh copy.\n",
    "\n",
    "![Run cell button](https://storage.googleapis.com/kaggle-media/Images/5gdai_sc_2.png)\n",
    "\n",
    "### Problems?\n",
    "\n",
    "If you have any problems, head over to the [Kaggle Discord](https://discord.com/invite/kaggle), find the [`#5dgai-q-and-a` channel](https://discord.com/channels/1101210829807956100/1303438695143178251) and ask for help."
   ]
  },
  {
   "cell_type": "markdown",
   "id": "2e6af1f3",
   "metadata": {
    "id": "ExkOXcPxtTb5",
    "papermill": {
     "duration": 0.012118,
     "end_time": "2025-04-02T20:39:35.206049",
     "exception": false,
     "start_time": "2025-04-02T20:39:35.193931",
     "status": "completed"
    },
    "tags": []
   },
   "source": [
    "## Get started with the Gemini API\n",
    "\n",
    "All of the exercises in this notebook will use the [Gemini API](https://ai.google.dev/gemini-api/) by way of the [Python SDK](https://pypi.org/project/google-genai/). Each of these prompts can be accessed directly in [Google AI Studio](https://aistudio.google.com/) too, so if you would rather use a web interface and skip the code for this activity, look for the <img src=\"https://ai.google.dev/site-assets/images/marketing/home/icon-ais.png\" style=\"height: 24px\" height=24/> AI Studio link on each prompt."
   ]
  },
  {
   "cell_type": "markdown",
   "id": "85c41f7d",
   "metadata": {
    "papermill": {
     "duration": 0.012053,
     "end_time": "2025-04-02T20:39:35.230371",
     "exception": false,
     "start_time": "2025-04-02T20:39:35.218318",
     "status": "completed"
    },
    "tags": []
   },
   "source": [
    "Next, you will need to add your API key to your Kaggle Notebook as a Kaggle User Secret.\n",
    "\n",
    "![](https://storage.googleapis.com/kaggle-media/Images/5dgai_1.png)\n",
    "![](https://storage.googleapis.com/kaggle-media/Images/5dgai_2.png)\n",
    "![](https://storage.googleapis.com/kaggle-media/Images/5dgai_3.png)\n",
    "![](https://storage.googleapis.com/kaggle-media/Images/5dgai_4.png)"
   ]
  },
  {
   "cell_type": "markdown",
   "id": "3fc95363",
   "metadata": {
    "id": "UAjUV3BsvFXQ",
    "papermill": {
     "duration": 0.01187,
     "end_time": "2025-04-02T20:39:35.254321",
     "exception": false,
     "start_time": "2025-04-02T20:39:35.242451",
     "status": "completed"
    },
    "tags": []
   },
   "source": [
    "### Install the SDK"
   ]
  },
  {
   "cell_type": "code",
   "execution_count": 2,
   "id": "945ebfda",
   "metadata": {
    "execution": {
     "iopub.execute_input": "2025-04-02T20:39:35.280232Z",
     "iopub.status.busy": "2025-04-02T20:39:35.279851Z",
     "iopub.status.idle": "2025-04-02T20:39:52.752597Z",
     "shell.execute_reply": "2025-04-02T20:39:52.751351Z"
    },
    "id": "NzwzJFU9LqkJ",
    "papermill": {
     "duration": 17.488682,
     "end_time": "2025-04-02T20:39:52.755183",
     "exception": false,
     "start_time": "2025-04-02T20:39:35.266501",
     "status": "completed"
    },
    "tags": []
   },
   "outputs": [],
   "source": [
    "!pip uninstall -qy jupyterlab  # Remove unused packages from Kaggle's base image that conflict\n",
    "!pip install -U -q \"google-genai==1.7.0\""
   ]
  },
  {
   "cell_type": "markdown",
   "id": "3ba91ee8",
   "metadata": {
    "papermill": {
     "duration": 0.011949,
     "end_time": "2025-04-02T20:39:52.780143",
     "exception": false,
     "start_time": "2025-04-02T20:39:52.768194",
     "status": "completed"
    },
    "tags": []
   },
   "source": [
    "Import the SDK and some helpers for rendering the output."
   ]
  },
  {
   "cell_type": "code",
   "execution_count": 3,
   "id": "89052ae6",
   "metadata": {
    "execution": {
     "iopub.execute_input": "2025-04-02T20:39:52.806860Z",
     "iopub.status.busy": "2025-04-02T20:39:52.806464Z",
     "iopub.status.idle": "2025-04-02T20:39:54.055609Z",
     "shell.execute_reply": "2025-04-02T20:39:54.054594Z"
    },
    "id": "5DwxYIRavMST",
    "papermill": {
     "duration": 1.265759,
     "end_time": "2025-04-02T20:39:54.058112",
     "exception": false,
     "start_time": "2025-04-02T20:39:52.792353",
     "status": "completed"
    },
    "tags": []
   },
   "outputs": [],
   "source": [
    "from google import genai\n",
    "from google.genai import types\n",
    "\n",
    "from IPython.display import HTML, Markdown, display"
   ]
  },
  {
   "cell_type": "markdown",
   "id": "1c7a8487",
   "metadata": {
    "papermill": {
     "duration": 0.013113,
     "end_time": "2025-04-02T20:39:54.083708",
     "exception": false,
     "start_time": "2025-04-02T20:39:54.070595",
     "status": "completed"
    },
    "tags": []
   },
   "source": [
    "Set up a retry helper. This allows you to \"Run all\" without worrying about per-minute quota."
   ]
  },
  {
   "cell_type": "code",
   "execution_count": 4,
   "id": "616f1de4",
   "metadata": {
    "execution": {
     "iopub.execute_input": "2025-04-02T20:39:54.109971Z",
     "iopub.status.busy": "2025-04-02T20:39:54.109423Z",
     "iopub.status.idle": "2025-04-02T20:39:54.264976Z",
     "shell.execute_reply": "2025-04-02T20:39:54.264061Z"
    },
    "papermill": {
     "duration": 0.171464,
     "end_time": "2025-04-02T20:39:54.267397",
     "exception": false,
     "start_time": "2025-04-02T20:39:54.095933",
     "status": "completed"
    },
    "tags": []
   },
   "outputs": [],
   "source": [
    "from google.api_core import retry\n",
    "\n",
    "\n",
    "is_retriable = lambda e: (isinstance(e, genai.errors.APIError) and e.code in {429, 503})\n",
    "\n",
    "genai.models.Models.generate_content = retry.Retry(\n",
    "    predicate=is_retriable)(genai.models.Models.generate_content)"
   ]
  },
  {
   "cell_type": "markdown",
   "id": "19f7c1e8",
   "metadata": {
    "id": "DNEt2BCOvOJ1",
    "papermill": {
     "duration": 0.012098,
     "end_time": "2025-04-02T20:39:54.292052",
     "exception": false,
     "start_time": "2025-04-02T20:39:54.279954",
     "status": "completed"
    },
    "tags": []
   },
   "source": [
    "### Set up your API key\n",
    "\n",
    "To run the following cell, your API key must be stored it in a [Kaggle secret](https://www.kaggle.com/discussions/product-feedback/114053) named `GOOGLE_API_KEY`.\n",
    "\n",
    "If you don't already have an API key, you can grab one from [AI Studio](https://aistudio.google.com/app/apikey). You can find [detailed instructions in the docs](https://ai.google.dev/gemini-api/docs/api-key).\n",
    "\n",
    "To make the key available through Kaggle secrets, choose `Secrets` from the `Add-ons` menu and follow the instructions to add your key or enable it for this notebook."
   ]
  },
  {
   "cell_type": "code",
   "execution_count": 5,
   "id": "556499aa",
   "metadata": {
    "execution": {
     "iopub.execute_input": "2025-04-02T20:39:54.318749Z",
     "iopub.status.busy": "2025-04-02T20:39:54.318271Z",
     "iopub.status.idle": "2025-04-02T20:39:54.657832Z",
     "shell.execute_reply": "2025-04-02T20:39:54.656628Z"
    },
    "id": "SHl0bkPCvayd",
    "papermill": {
     "duration": 0.356076,
     "end_time": "2025-04-02T20:39:54.660665",
     "exception": false,
     "start_time": "2025-04-02T20:39:54.304589",
     "status": "completed"
    },
    "tags": []
   },
   "outputs": [],
   "source": [
    "from kaggle_secrets import UserSecretsClient\n",
    "\n",
    "GOOGLE_API_KEY = UserSecretsClient().get_secret(\"GOOGLE_API_KEY\")"
   ]
  },
  {
   "attachments": {
    "d2be9aab-2527-48af-b6cf-1f06cdd7c3a7.png": {
     "image/png": "[encoded data removed]"
    }
   },
   "cell_type": "markdown",
   "id": "fa0fc466",
   "metadata": {
    "id": "4e720472fd86",
    "papermill": {
     "duration": 0.012635,
     "end_time": "2025-04-02T20:39:54.686565",
     "exception": false,
     "start_time": "2025-04-02T20:39:54.673930",
     "status": "completed"
    },
    "tags": []
   },
   "source": [
    "If you received an error response along the lines of `No user secrets exist for kernel id ...`, then you need to add your API key via `Add-ons`, `Secrets` **and** enable it.\n",
    "\n",
    "![Screenshot of the checkbox to enable GOOGLE_API_KEY secret](https://storage.googleapis.com/kaggle-media/Images/5gdai_sc_3.png)"
   ]
  },
  {
   "cell_type": "markdown",
   "id": "db8debc6",
   "metadata": {
    "id": "H_YXCYIKvyZJ",
    "papermill": {
     "duration": 0.012846,
     "end_time": "2025-04-02T20:39:54.713474",
     "exception": false,
     "start_time": "2025-04-02T20:39:54.700628",
     "status": "completed"
    },
    "tags": []
   },
   "source": [
    "### Run your first prompt\n",
    "\n",
    "In this step, you will test that your API key is set up correctly by making a request.\n",
    "\n",
    "The Python SDK uses a [`Client` object](https://googleapis.github.io/python-genai/genai.html#genai.client.Client) to make requests to the API. The client lets you control which back-end to use (between the Gemini API and Vertex AI) and handles authentication (the API key).\n",
    "\n",
    "The `gemini-2.0-flash` model has been selected here.\n",
    "\n",
    "**Note**: If you see a `TransportError` on this step, you may need to **🔁 Factory reset** the notebook one time."
   ]
  },
  {
   "cell_type": "code",
   "execution_count": 6,
   "id": "62c300eb",
   "metadata": {
    "execution": {
     "iopub.execute_input": "2025-04-02T20:39:54.742954Z",
     "iopub.status.busy": "2025-04-02T20:39:54.741817Z",
     "iopub.status.idle": "2025-04-02T20:39:58.189116Z",
     "shell.execute_reply": "2025-04-02T20:39:58.188004Z"
    },
    "id": "BV1o0PmcvyJF",
    "papermill": {
     "duration": 3.464593,
     "end_time": "2025-04-02T20:39:58.191910",
     "exception": false,
     "start_time": "2025-04-02T20:39:54.727317",
     "status": "completed"
    },
    "tags": []
   },
   "outputs": [
    {
     "name": "stdout",
     "output_type": "stream",
     "text": [
      "Imagine you have a really smart robot friend! This robot friend can learn things, just like you do at school. \n",
      "\n",
      "AI is like giving that robot friend a brain that can learn and figure things out on its own.\n",
      "\n",
      "**Here's how it works:**\n",
      "\n",
      "*   **Learning by Example:** Imagine showing your robot friend tons and tons of pictures of cats. After seeing enough pictures, the robot friend will learn what cats look like and can point out a cat in a brand new picture, even if it's a silly-looking cat wearing a hat!\n",
      "\n",
      "*   **Following Rules:** Sometimes, we give the robot friend rules to follow. Like, \"If the sky is blue, you can play outside.\" The robot friend will use those rules to make decisions, like whether it's playtime or not.\n",
      "\n",
      "*   **Making Predictions:** AI can also help us guess what might happen in the future. Like, if it's been raining all day, the robot friend might predict that the ground will be muddy tomorrow.\n",
      "\n",
      "**Where do we see AI?**\n",
      "\n",
      "*   **Video Games:** That's how computer characters in games know how to react to you.\n",
      "*   **Recommendation Systems:** When YouTube suggests videos you might like, that's AI.\n",
      "*   **Smartphones:** When you talk to Siri or Google Assistant, that's AI too.\n",
      "*   **Self-Driving Cars:** AI helps the car see the road and make decisions about where to go.\n",
      "\n",
      "So, AI is all about making computers smart so they can help us solve problems and do cool things! Just remember, it's not magic – it's clever programming!\n",
      "\n"
     ]
    }
   ],
   "source": [
    "client = genai.Client(api_key=GOOGLE_API_KEY)\n",
    "\n",
    "response = client.models.generate_content(\n",
    "    model=\"gemini-2.0-flash\",\n",
    "    contents=\"Explain AI to me like I'm a kid.\")\n",
    "\n",
    "print(response.text)"
   ]
  },
  {
   "cell_type": "markdown",
   "id": "febe9bc0",
   "metadata": {
    "id": "f60ed9d8ae41",
    "papermill": {
     "duration": 0.013055,
     "end_time": "2025-04-02T20:39:58.218281",
     "exception": false,
     "start_time": "2025-04-02T20:39:58.205226",
     "status": "completed"
    },
    "tags": []
   },
   "source": [
    "The response often comes back in markdown format, which you can render directly in this notebook."
   ]
  },
  {
   "cell_type": "code",
   "execution_count": 7,
   "id": "90e8c4ff",
   "metadata": {
    "execution": {
     "iopub.execute_input": "2025-04-02T20:39:58.246755Z",
     "iopub.status.busy": "2025-04-02T20:39:58.246299Z",
     "iopub.status.idle": "2025-04-02T20:39:58.255339Z",
     "shell.execute_reply": "2025-04-02T20:39:58.254282Z"
    },
    "id": "c933e5e460a5",
    "papermill": {
     "duration": 0.026087,
     "end_time": "2025-04-02T20:39:58.257593",
     "exception": false,
     "start_time": "2025-04-02T20:39:58.231506",
     "status": "completed"
    },
    "tags": []
   },
   "outputs": [
    {
     "data": {
      "text/markdown": [
       "Imagine you have a really smart robot friend! This robot friend can learn things, just like you do at school. \n",
       "\n",
       "AI is like giving that robot friend a brain that can learn and figure things out on its own.\n",
       "\n",
       "**Here's how it works:**\n",
       "\n",
       "*   **Learning by Example:** Imagine showing your robot friend tons and tons of pictures of cats. After seeing enough pictures, the robot friend will learn what cats look like and can point out a cat in a brand new picture, even if it's a silly-looking cat wearing a hat!\n",
       "\n",
       "*   **Following Rules:** Sometimes, we give the robot friend rules to follow. Like, \"If the sky is blue, you can play outside.\" The robot friend will use those rules to make decisions, like whether it's playtime or not.\n",
       "\n",
       "*   **Making Predictions:** AI can also help us guess what might happen in the future. Like, if it's been raining all day, the robot friend might predict that the ground will be muddy tomorrow.\n",
       "\n",
       "**Where do we see AI?**\n",
       "\n",
       "*   **Video Games:** That's how computer characters in games know how to react to you.\n",
       "*   **Recommendation Systems:** When YouTube suggests videos you might like, that's AI.\n",
       "*   **Smartphones:** When you talk to Siri or Google Assistant, that's AI too.\n",
       "*   **Self-Driving Cars:** AI helps the car see the road and make decisions about where to go.\n",
       "\n",
       "So, AI is all about making computers smart so they can help us solve problems and do cool things! Just remember, it's not magic – it's clever programming!\n"
      ],
      "text/plain": [
       "<IPython.core.display.Markdown object>"
      ]
     },
     "execution_count": 7,
     "metadata": {},
     "output_type": "execute_result"
    }
   ],
   "source": [
    "Markdown(response.text)"
   ]
  },
  {
   "cell_type": "markdown",
   "id": "ec19b300",
   "metadata": {
    "id": "byx0pT9ZMW2Q",
    "papermill": {
     "duration": 0.012633,
     "end_time": "2025-04-02T20:39:58.283617",
     "exception": false,
     "start_time": "2025-04-02T20:39:58.270984",
     "status": "completed"
    },
    "tags": []
   },
   "source": [
    "### Start a chat\n",
    "\n",
    "The previous example uses a single-turn, text-in/text-out structure, but you can also set up a multi-turn chat structure too."
   ]
  },
  {
   "cell_type": "code",
   "execution_count": 8,
   "id": "2fbb1aab",
   "metadata": {
    "execution": {
     "iopub.execute_input": "2025-04-02T20:39:58.312608Z",
     "iopub.status.busy": "2025-04-02T20:39:58.312142Z",
     "iopub.status.idle": "2025-04-02T20:39:59.016661Z",
     "shell.execute_reply": "2025-04-02T20:39:59.015201Z"
    },
    "id": "lV_S5ZL5MidD",
    "papermill": {
     "duration": 0.722016,
     "end_time": "2025-04-02T20:39:59.019371",
     "exception": false,
     "start_time": "2025-04-02T20:39:58.297355",
     "status": "completed"
    },
    "tags": []
   },
   "outputs": [
    {
     "name": "stdout",
     "output_type": "stream",
     "text": [
      "Hello Chrisbac! It's nice to meet you. How can I help you today?\n",
      "\n"
     ]
    }
   ],
   "source": [
    "chat = client.chats.create(model='gemini-2.0-flash', history=[])\n",
    "response = chat.send_message('Hello! My name is Chrisbac.')\n",
    "print(response.text)"
   ]
  },
  {
   "cell_type": "code",
   "execution_count": 9,
   "id": "587698db",
   "metadata": {
    "execution": {
     "iopub.execute_input": "2025-04-02T20:39:59.048932Z",
     "iopub.status.busy": "2025-04-02T20:39:59.048468Z",
     "iopub.status.idle": "2025-04-02T20:40:02.165773Z",
     "shell.execute_reply": "2025-04-02T20:40:02.164478Z"
    },
    "id": "7b0372c3c64a",
    "papermill": {
     "duration": 3.135128,
     "end_time": "2025-04-02T20:40:02.168467",
     "exception": false,
     "start_time": "2025-04-02T20:39:59.033339",
     "status": "completed"
    },
    "tags": []
   },
   "outputs": [
    {
     "name": "stdout",
     "output_type": "stream",
     "text": [
      "Okay, here's something interesting about designing for Generative AI:\n",
      "\n",
      "**The focus shifts from *predicting* user behavior to *steering* it.**\n",
      "\n",
      "Let me break that down:\n",
      "\n",
      "*   **Traditional Design (Predicting):** In traditional UI/UX design, you're largely trying to anticipate what users want and how they will interact with your interface. You build flows, present options, and aim to guide them toward a desired outcome based on your best guess of their needs and motivations.\n",
      "\n",
      "*   **GenAI Design (Steering):** With Generative AI, you're working with a system that *creates* content or experiences on the fly. You're no longer just providing pre-defined options. Instead, you're providing *context*, *constraints*, and *guidance* to the AI so it can generate something useful and relevant. You're essentially \"steering\" the AI's creativity towards the desired result.\n",
      "\n",
      "**Why is this interesting?**\n",
      "\n",
      "*   **New Mental Model:** It requires designers to think differently. You're not just designing static interfaces; you're designing *interactions* with a dynamic, evolving system.\n",
      "*   **Emphasis on Prompt Engineering:** Clear, concise, and well-structured prompts become crucial. The quality of the input directly impacts the quality of the output. Understanding how to craft effective prompts becomes a core design skill.\n",
      "*   **Bias Mitigation:** Designers need to be acutely aware of potential biases in the training data and design prompts and interfaces that minimize the risk of perpetuating harmful stereotypes or generating inappropriate content.\n",
      "*   **Evaluation Challenges:** Measuring the success of a GenAI-powered design is more complex. You're not just evaluating usability or efficiency; you're also evaluating the quality, relevance, and originality of the generated output.\n",
      "*   **Explainability and Control:**  Users need to understand *why* the AI generated a particular output and have some level of control over the generation process.  This can be achieved through techniques like showing the AI's reasoning process or allowing users to refine the output through feedback.\n",
      "\n",
      "**In short, designing for GenAI is about creating a collaborative relationship between the user and the AI, where the user provides the direction and the AI provides the creative power.**\n",
      "\n",
      "Does that make sense? Let me know if you'd like me to elaborate on any of these points.\n",
      "\n"
     ]
    }
   ],
   "source": [
    "response = chat.send_message('Can you tell me something interesting about designing for GenAI?')\n",
    "print(response.text)"
   ]
  },
  {
   "cell_type": "code",
   "execution_count": 10,
   "id": "057a8dc3",
   "metadata": {
    "execution": {
     "iopub.execute_input": "2025-04-02T20:40:02.197748Z",
     "iopub.status.busy": "2025-04-02T20:40:02.197299Z",
     "iopub.status.idle": "2025-04-02T20:40:02.205271Z",
     "shell.execute_reply": "2025-04-02T20:40:02.203958Z"
    },
    "papermill": {
     "duration": 0.025439,
     "end_time": "2025-04-02T20:40:02.207627",
     "exception": false,
     "start_time": "2025-04-02T20:40:02.182188",
     "status": "completed"
    },
    "tags": []
   },
   "outputs": [
    {
     "data": {
      "text/markdown": [
       "Okay, here's something interesting about designing for Generative AI:\n",
       "\n",
       "**The focus shifts from *predicting* user behavior to *steering* it.**\n",
       "\n",
       "Let me break that down:\n",
       "\n",
       "*   **Traditional Design (Predicting):** In traditional UI/UX design, you're largely trying to anticipate what users want and how they will interact with your interface. You build flows, present options, and aim to guide them toward a desired outcome based on your best guess of their needs and motivations.\n",
       "\n",
       "*   **GenAI Design (Steering):** With Generative AI, you're working with a system that *creates* content or experiences on the fly. You're no longer just providing pre-defined options. Instead, you're providing *context*, *constraints*, and *guidance* to the AI so it can generate something useful and relevant. You're essentially \"steering\" the AI's creativity towards the desired result.\n",
       "\n",
       "**Why is this interesting?**\n",
       "\n",
       "*   **New Mental Model:** It requires designers to think differently. You're not just designing static interfaces; you're designing *interactions* with a dynamic, evolving system.\n",
       "*   **Emphasis on Prompt Engineering:** Clear, concise, and well-structured prompts become crucial. The quality of the input directly impacts the quality of the output. Understanding how to craft effective prompts becomes a core design skill.\n",
       "*   **Bias Mitigation:** Designers need to be acutely aware of potential biases in the training data and design prompts and interfaces that minimize the risk of perpetuating harmful stereotypes or generating inappropriate content.\n",
       "*   **Evaluation Challenges:** Measuring the success of a GenAI-powered design is more complex. You're not just evaluating usability or efficiency; you're also evaluating the quality, relevance, and originality of the generated output.\n",
       "*   **Explainability and Control:**  Users need to understand *why* the AI generated a particular output and have some level of control over the generation process.  This can be achieved through techniques like showing the AI's reasoning process or allowing users to refine the output through feedback.\n",
       "\n",
       "**In short, designing for GenAI is about creating a collaborative relationship between the user and the AI, where the user provides the direction and the AI provides the creative power.**\n",
       "\n",
       "Does that make sense? Let me know if you'd like me to elaborate on any of these points.\n"
      ],
      "text/plain": [
       "<IPython.core.display.Markdown object>"
      ]
     },
     "execution_count": 10,
     "metadata": {},
     "output_type": "execute_result"
    }
   ],
   "source": [
    "Markdown(response.text)"
   ]
  },
  {
   "cell_type": "markdown",
   "id": "ca127356",
   "metadata": {
    "papermill": {
     "duration": 0.013424,
     "end_time": "2025-04-02T20:40:02.235415",
     "exception": false,
     "start_time": "2025-04-02T20:40:02.221991",
     "status": "completed"
    },
    "tags": []
   },
   "source": [
    "While you have the `chat` object alive, the conversation state\n",
    "persists. Confirm that by asking if it knows the user's name."
   ]
  },
  {
   "cell_type": "code",
   "execution_count": 11,
   "id": "3beef9c3",
   "metadata": {
    "execution": {
     "iopub.execute_input": "2025-04-02T20:40:02.266086Z",
     "iopub.status.busy": "2025-04-02T20:40:02.265607Z",
     "iopub.status.idle": "2025-04-02T20:40:02.744786Z",
     "shell.execute_reply": "2025-04-02T20:40:02.743530Z"
    },
    "id": "d3f9591392a7",
    "papermill": {
     "duration": 0.497715,
     "end_time": "2025-04-02T20:40:02.747466",
     "exception": false,
     "start_time": "2025-04-02T20:40:02.249751",
     "status": "completed"
    },
    "tags": []
   },
   "outputs": [
    {
     "name": "stdout",
     "output_type": "stream",
     "text": [
      "Yes, your name is Chrisbac.\n",
      "\n"
     ]
    }
   ],
   "source": [
    "response = chat.send_message('Do you remember what my name is?')\n",
    "print(response.text)"
   ]
  },
  {
   "cell_type": "markdown",
   "id": "d577db80",
   "metadata": {
    "id": "2KAjpr1200sW",
    "papermill": {
     "duration": 0.013784,
     "end_time": "2025-04-02T20:40:02.775598",
     "exception": false,
     "start_time": "2025-04-02T20:40:02.761814",
     "status": "completed"
    },
    "tags": []
   },
   "source": [
    "### Choose a model\n",
    "\n",
    "The Gemini API provides access to a number of models from the Gemini model family. Read about the available models and their capabilities on the [model overview page](https://ai.google.dev/gemini-api/docs/models/gemini).\n",
    "\n",
    "In this step you'll use the API to list all of the available models."
   ]
  },
  {
   "cell_type": "code",
   "execution_count": 12,
   "id": "39677f7e",
   "metadata": {
    "execution": {
     "iopub.execute_input": "2025-04-02T20:40:02.805607Z",
     "iopub.status.busy": "2025-04-02T20:40:02.805130Z",
     "iopub.status.idle": "2025-04-02T20:40:03.301681Z",
     "shell.execute_reply": "2025-04-02T20:40:03.300462Z"
    },
    "id": "uUUZa2uq2jDm",
    "papermill": {
     "duration": 0.514862,
     "end_time": "2025-04-02T20:40:03.304440",
     "exception": false,
     "start_time": "2025-04-02T20:40:02.789578",
     "status": "completed"
    },
    "tags": []
   },
   "outputs": [
    {
     "name": "stdout",
     "output_type": "stream",
     "text": [
      "models/chat-bison-001\n",
      "models/text-bison-001\n",
      "models/embedding-gecko-001\n",
      "models/gemini-1.0-pro-vision-latest\n",
      "models/gemini-pro-vision\n",
      "models/gemini-1.5-pro-latest\n",
      "models/gemini-1.5-pro-001\n",
      "models/gemini-1.5-pro-002\n",
      "models/gemini-1.5-pro\n",
      "models/gemini-1.5-flash-latest\n",
      "models/gemini-1.5-flash-001\n",
      "models/gemini-1.5-flash-001-tuning\n",
      "models/gemini-1.5-flash\n",
      "models/gemini-1.5-flash-002\n",
      "models/gemini-1.5-flash-8b\n",
      "models/gemini-1.5-flash-8b-001\n",
      "models/gemini-1.5-flash-8b-latest\n",
      "models/gemini-1.5-flash-8b-exp-0827\n",
      "models/gemini-1.5-flash-8b-exp-0924\n",
      "models/gemini-2.5-pro-exp-03-25\n",
      "models/gemini-2.0-flash-exp\n",
      "models/gemini-2.0-flash\n",
      "models/gemini-2.0-flash-001\n",
      "models/gemini-2.0-flash-exp-image-generation\n",
      "models/gemini-2.0-flash-lite-001\n",
      "models/gemini-2.0-flash-lite\n",
      "models/gemini-2.0-flash-lite-preview-02-05\n",
      "models/gemini-2.0-flash-lite-preview\n",
      "models/gemini-2.0-pro-exp\n",
      "models/gemini-2.0-pro-exp-02-05\n",
      "models/gemini-exp-1206\n",
      "models/gemini-2.0-flash-thinking-exp-01-21\n",
      "models/gemini-2.0-flash-thinking-exp\n",
      "models/gemini-2.0-flash-thinking-exp-1219\n",
      "models/learnlm-1.5-pro-experimental\n",
      "models/gemma-3-4b-it\n",
      "models/gemma-3-12b-it\n",
      "models/gemma-3-27b-it\n",
      "models/embedding-001\n",
      "models/text-embedding-004\n",
      "models/gemini-embedding-exp-03-07\n",
      "models/gemini-embedding-exp\n",
      "models/aqa\n",
      "models/imagen-3.0-generate-002\n"
     ]
    }
   ],
   "source": [
    "for model in client.models.list():\n",
    "  print(model.name)"
   ]
  },
  {
   "cell_type": "markdown",
   "id": "0f3fbe3e",
   "metadata": {
    "id": "rN49kSI54R1v",
    "papermill": {
     "duration": 0.013218,
     "end_time": "2025-04-02T20:40:03.331496",
     "exception": false,
     "start_time": "2025-04-02T20:40:03.318278",
     "status": "completed"
    },
    "tags": []
   },
   "source": [
    "The [`models.list`](https://ai.google.dev/api/models#method:-models.list) response also returns additional information about the model's capabilities, like the token limits and supported parameters."
   ]
  },
  {
   "cell_type": "code",
   "execution_count": 13,
   "id": "22957c15",
   "metadata": {
    "execution": {
     "iopub.execute_input": "2025-04-02T20:40:03.360277Z",
     "iopub.status.busy": "2025-04-02T20:40:03.359129Z",
     "iopub.status.idle": "2025-04-02T20:40:03.842066Z",
     "shell.execute_reply": "2025-04-02T20:40:03.841080Z"
    },
    "id": "k7JJ1K6j4Rl8",
    "papermill": {
     "duration": 0.499831,
     "end_time": "2025-04-02T20:40:03.844343",
     "exception": false,
     "start_time": "2025-04-02T20:40:03.344512",
     "status": "completed"
    },
    "tags": []
   },
   "outputs": [
    {
     "name": "stdout",
     "output_type": "stream",
     "text": [
      "{'description': 'Experimental release (January 21st, 2025) of Gemini 2.0 Flash '\n",
      "                'Thinking',\n",
      " 'display_name': 'Gemini 2.0 Flash Thinking Experimental 01-21',\n",
      " 'input_token_limit': 1048576,\n",
      " 'name': 'models/gemini-2.0-flash-thinking-exp-01-21',\n",
      " 'output_token_limit': 65536,\n",
      " 'supported_actions': ['generateContent', 'countTokens'],\n",
      " 'tuned_model_info': {},\n",
      " 'version': '2.0-exp-01-21'}\n"
     ]
    }
   ],
   "source": [
    "from pprint import pprint\n",
    "\n",
    "for model in client.models.list():\n",
    "  if model.name == 'models/gemini-2.0-flash-thinking-exp-01-21':\n",
    "    pprint(model.to_json_dict())\n",
    "    break"
   ]
  },
  {
   "cell_type": "markdown",
   "id": "f9fbac72",
   "metadata": {
    "id": "5rU_UBlZdooM",
    "papermill": {
     "duration": 0.013337,
     "end_time": "2025-04-02T20:40:03.870997",
     "exception": false,
     "start_time": "2025-04-02T20:40:03.857660",
     "status": "completed"
    },
    "tags": []
   },
   "source": [
    "## Explore generation parameters\n",
    "\n"
   ]
  },
  {
   "cell_type": "markdown",
   "id": "1699fbf0",
   "metadata": {
    "id": "G7NfEizeipbW",
    "papermill": {
     "duration": 0.012986,
     "end_time": "2025-04-02T20:40:03.897617",
     "exception": false,
     "start_time": "2025-04-02T20:40:03.884631",
     "status": "completed"
    },
    "tags": []
   },
   "source": [
    "### Output length\n",
    "\n",
    "When generating text with an LLM, the output length affects cost and performance. Generating more tokens increases computation, leading to higher energy consumption, latency, and cost.\n",
    "\n",
    "To stop the model from generating tokens past a limit, you can specify the `max_output_tokens` parameter when using the Gemini API. Specifying this parameter does not influence the generation of the output tokens, so the output will not become more stylistically or textually succinct, but it will stop generating tokens once the specified length is reached. Prompt engineering may be required to generate a more complete output for your given limit."
   ]
  },
  {
   "cell_type": "code",
   "execution_count": 14,
   "id": "73308c0b",
   "metadata": {
    "execution": {
     "iopub.execute_input": "2025-04-02T20:40:03.926010Z",
     "iopub.status.busy": "2025-04-02T20:40:03.925599Z",
     "iopub.status.idle": "2025-04-02T20:40:05.999363Z",
     "shell.execute_reply": "2025-04-02T20:40:05.997864Z"
    },
    "id": "qVf23JsIi9ma",
    "papermill": {
     "duration": 2.090956,
     "end_time": "2025-04-02T20:40:06.001979",
     "exception": false,
     "start_time": "2025-04-02T20:40:03.911023",
     "status": "completed"
    },
    "tags": []
   },
   "outputs": [
    {
     "name": "stdout",
     "output_type": "stream",
     "text": [
      "Mental models, simplified representations of how things work, are invaluable tools for designing effective and intuitive AI systems. By understanding how users perceive the world and their expectations, designers can create AI that aligns with human cognition. For example, an AI assistant designed to schedule appointments needs a mental model of how users typically manage their time, considering factors like travel time, preferred meeting durations, and existing commitments.\n",
      "\n",
      "Failing to account for user mental models leads to frustration and abandonment. An AI that provides overly technical or complex explanations, for instance, clashes with a user's expectation of a simpler, more accessible interface. Conversely, an AI that anticipates user needs and offers proactive suggestions, based on a well-defined mental model, fosters a sense of trust and ease.\n",
      "\n",
      "By explicitly incorporating mental models into the design process, AI developers can build systems that are not only technically advanced but also human-centered, ultimately leading to greater adoption and positive user experiences. This means actively researching user assumptions, testing prototypes, and iteratively refining the AI's behavior to match user expectations. Ultimately, successful AI design is about bridging the gap between technology and human understanding.\n",
      "\n"
     ]
    }
   ],
   "source": [
    "from google.genai import types\n",
    "\n",
    "short_config = types.GenerateContentConfig(max_output_tokens=250)\n",
    "\n",
    "response = client.models.generate_content(\n",
    "    model='gemini-2.0-flash',\n",
    "    config=short_config,\n",
    "    contents='Write a 200 word essay on using mental models for AI design.')\n",
    "\n",
    "print(response.text)"
   ]
  },
  {
   "cell_type": "code",
   "execution_count": 15,
   "id": "361a622a",
   "metadata": {
    "execution": {
     "iopub.execute_input": "2025-04-02T20:40:06.032934Z",
     "iopub.status.busy": "2025-04-02T20:40:06.031982Z",
     "iopub.status.idle": "2025-04-02T20:40:07.052945Z",
     "shell.execute_reply": "2025-04-02T20:40:07.051734Z"
    },
    "id": "W-3kR2F5kdMR",
    "papermill": {
     "duration": 1.039095,
     "end_time": "2025-04-02T20:40:07.055271",
     "exception": false,
     "start_time": "2025-04-02T20:40:06.016176",
     "status": "completed"
    },
    "tags": []
   },
   "outputs": [
    {
     "name": "stdout",
     "output_type": "stream",
     "text": [
      "From sun-drenched groves, a humble yield,\n",
      "Olives pressed, a taste revealed.\n",
      "In salads bright, or oils so fine,\n",
      "A touch of Greece, a taste divine.\n",
      "\n",
      "On pizza crust, a salty grace,\n",
      "In tapenade, a vibrant space.\n",
      "A symbol old, of peace and life,\n",
      "Olives cut through modern strife. \n",
      "\n"
     ]
    }
   ],
   "source": [
    "response = client.models.generate_content(\n",
    "    model='gemini-2.0-flash',\n",
    "    config=short_config,\n",
    "    contents='Write a short poem on the importance of olives in modern society.')\n",
    "\n",
    "print(response.text)"
   ]
  },
  {
   "cell_type": "markdown",
   "id": "22c14daa",
   "metadata": {
    "id": "3ZhDSLB6lqqB",
    "papermill": {
     "duration": 0.014,
     "end_time": "2025-04-02T20:40:07.083877",
     "exception": false,
     "start_time": "2025-04-02T20:40:07.069877",
     "status": "completed"
    },
    "tags": []
   },
   "source": [
    "Explore with your own prompts. Try a prompt with a restrictive output limit and then adjust the prompt to work within that limit."
   ]
  },
  {
   "cell_type": "markdown",
   "id": "2acb26a2",
   "metadata": {
    "id": "alx-WaAvir_9",
    "papermill": {
     "duration": 0.013503,
     "end_time": "2025-04-02T20:40:07.111737",
     "exception": false,
     "start_time": "2025-04-02T20:40:07.098234",
     "status": "completed"
    },
    "tags": []
   },
   "source": [
    "### Temperature\n",
    "\n",
    "Temperature controls the degree of randomness in token selection. Higher temperatures result in a higher number of candidate tokens from which the next output token is selected, and can produce more diverse results, while lower temperatures have the opposite effect, such that a temperature of 0 results in greedy decoding, selecting the most probable token at each step.\n",
    "\n",
    "Temperature doesn't provide any guarantees of randomness, but it can be used to \"nudge\" the output somewhat."
   ]
  },
  {
   "cell_type": "code",
   "execution_count": 16,
   "id": "68a1a04c",
   "metadata": {
    "execution": {
     "iopub.execute_input": "2025-04-02T20:40:07.141825Z",
     "iopub.status.busy": "2025-04-02T20:40:07.140691Z",
     "iopub.status.idle": "2025-04-02T20:40:09.698595Z",
     "shell.execute_reply": "2025-04-02T20:40:09.697358Z"
    },
    "id": "SHraGMzqnZqt",
    "papermill": {
     "duration": 2.575941,
     "end_time": "2025-04-02T20:40:09.701430",
     "exception": false,
     "start_time": "2025-04-02T20:40:07.125489",
     "status": "completed"
    },
    "tags": []
   },
   "outputs": [
    {
     "name": "stdout",
     "output_type": "stream",
     "text": [
      "Azure.\n",
      " -------------------------\n",
      "Orange\n",
      " -------------------------\n",
      "Turquoise\n",
      " -------------------------\n",
      "Orange\n",
      " -------------------------\n",
      "Azure.\n",
      " -------------------------\n"
     ]
    }
   ],
   "source": [
    "high_temp_config = types.GenerateContentConfig(temperature= 1.3)\n",
    "\n",
    "\n",
    "for _ in range(5):\n",
    "  response = client.models.generate_content(\n",
    "      model='gemini-2.0-flash',\n",
    "      config=high_temp_config,\n",
    "      contents='Pick a random colour... (respond in a single word)')\n",
    "\n",
    "  if response.text:\n",
    "    print(response.text, '-' * 25)"
   ]
  },
  {
   "cell_type": "markdown",
   "id": "2b7540ed",
   "metadata": {
    "id": "z3J4pCTuof7e",
    "papermill": {
     "duration": 0.015378,
     "end_time": "2025-04-02T20:40:09.733618",
     "exception": false,
     "start_time": "2025-04-02T20:40:09.718240",
     "status": "completed"
    },
    "tags": []
   },
   "source": [
    "Now try the same prompt with temperature set to zero. Note that the output is not completely deterministic, as other parameters affect token selection, but the results will tend to be more stable."
   ]
  },
  {
   "cell_type": "code",
   "execution_count": 17,
   "id": "5436560d",
   "metadata": {
    "execution": {
     "iopub.execute_input": "2025-04-02T20:40:09.774509Z",
     "iopub.status.busy": "2025-04-02T20:40:09.773410Z",
     "iopub.status.idle": "2025-04-02T20:40:12.261204Z",
     "shell.execute_reply": "2025-04-02T20:40:12.259876Z"
    },
    "id": "clymkWv-PfUZ",
    "papermill": {
     "duration": 2.510533,
     "end_time": "2025-04-02T20:40:12.263984",
     "exception": false,
     "start_time": "2025-04-02T20:40:09.753451",
     "status": "completed"
    },
    "tags": []
   },
   "outputs": [
    {
     "name": "stdout",
     "output_type": "stream",
     "text": [
      "Azure\n",
      " -------------------------\n",
      "Azure\n",
      " -------------------------\n",
      "Azure\n",
      " -------------------------\n",
      "Azure\n",
      " -------------------------\n",
      "Azure\n",
      " -------------------------\n"
     ]
    }
   ],
   "source": [
    "low_temp_config = types.GenerateContentConfig(temperature=0.0)\n",
    "\n",
    "for _ in range(5):\n",
    "  response = client.models.generate_content(\n",
    "      model='gemini-2.0-flash',\n",
    "      config=low_temp_config,\n",
    "      contents='Pick a random colour... (respond in a single word)')\n",
    "\n",
    "  if response.text:\n",
    "    print(response.text, '-' * 25)"
   ]
  },
  {
   "cell_type": "markdown",
   "id": "63f8b742",
   "metadata": {
    "id": "St5nt3vzitsZ",
    "papermill": {
     "duration": 0.014498,
     "end_time": "2025-04-02T20:40:12.293158",
     "exception": false,
     "start_time": "2025-04-02T20:40:12.278660",
     "status": "completed"
    },
    "tags": []
   },
   "source": [
    "### Top-P\n",
    "\n",
    "Like temperature, the top-P parameter is also used to control the diversity of the model's output.\n",
    "\n",
    "Top-P defines the probability threshold that, once cumulatively exceeded, tokens stop being selected as candidates. A top-P of 0 is typically equivalent to greedy decoding, and a top-P of 1 typically selects every token in the model's vocabulary.\n",
    "\n",
    "You may also see top-K referenced in LLM literature. Top-K is not configurable in the Gemini 2.0 series of models, but can be changed in older models. Top-K is a positive integer that defines the number of most probable tokens from which to select the output token. A top-K of 1 selects a single token, performing greedy decoding.\n",
    "\n",
    "\n",
    "Run this example a number of times, change the settings and observe the change in output."
   ]
  },
  {
   "cell_type": "code",
   "execution_count": 18,
   "id": "3aac2868",
   "metadata": {
    "execution": {
     "iopub.execute_input": "2025-04-02T20:40:12.324731Z",
     "iopub.status.busy": "2025-04-02T20:40:12.323922Z",
     "iopub.status.idle": "2025-04-02T20:40:17.586826Z",
     "shell.execute_reply": "2025-04-02T20:40:17.585558Z"
    },
    "id": "lPlzpEavUV8F",
    "papermill": {
     "duration": 5.281775,
     "end_time": "2025-04-02T20:40:17.589474",
     "exception": false,
     "start_time": "2025-04-02T20:40:12.307699",
     "status": "completed"
    },
    "tags": []
   },
   "outputs": [
    {
     "name": "stdout",
     "output_type": "stream",
     "text": [
      "Jasper, a ginger tabby of discerning tastes (salmon pate only, thank you very much), considered himself a creature of habit. His days revolved around sunbeams, strategic naps, and demanding head scratches from his human, Eleanor. Adventure, in Jasper's opinion, was a hairball coughed up on the Persian rug.\n",
      "\n",
      "But routine, as any seasoned tabby knows, is a fragile thing. It crumbled the day the blue jay landed on the windowsill, chattering incessantly about…something. Jasper, normally indifferent to feathered creatures, found himself strangely captivated. The jay spoke of the Whispering Woods, a place just beyond the familiar gardens, a place where trees whispered secrets and the air hummed with untold stories.\n",
      "\n",
      "Driven by a sudden, inexplicable urge that felt remarkably like hunger but wasn't, Jasper padded out the cat flap and into the unknown. The garden was bigger than he remembered, the roses taller, the earth smelling of damp secrets. He followed the jay, who flitted ahead, a mischievous guide leading him towards a tangle of ivy that marked the edge of the Whispering Woods.\n",
      "\n",
      "The moment Jasper stepped into the woods, the air changed. The light dimmed, dappled through leaves that seemed to shimmer with an inner light. The whispers started, soft murmurings that tickled his whiskers. He heard secrets of earthworms and the lovesick sighs of the wind.\n",
      "\n",
      "He stalked deeper, driven by an instinct he didn't understand. He chased a particularly elusive butterfly with wings the colour of amethyst, scrambled over fallen logs carpeted in moss, and even, to his eternal shame, accidentally startled a grumpy badger.\n",
      "\n",
      "Finally, he arrived at a clearing bathed in ethereal light. In the center stood an ancient oak, its branches gnarled and reaching towards the sky like supplicating hands. The jay landed on a branch and chirped, \"The heart of the woods! What secret do you seek, little tabby?\"\n",
      "\n",
      "Jasper, surprised, hadn't considered a secret. He’d been driven by…what? The thrill of the chase? The lure of the unknown? He looked at the oak, its bark etched with the history of a thousand seasons. \n",
      "\n",
      "Suddenly, it came to him. Not a grand secret, not a world-altering revelation, but something simpler, something more profound.\n",
      "\n",
      "He wanted to be known.\n",
      "\n",
      "Not just as Eleanor’s ginger fluffball, but as Jasper, the adventurer, the explorer, the cat who had braved the Whispering Woods.\n",
      "\n",
      "He sat at the foot of the oak, closed his eyes, and purred. He poured his whole being into that purr, his dreams, his fears, his love for salmon pate and sunbeams.\n",
      "\n",
      "When he opened his eyes, the oak seemed to glow a little brighter. The whispers around him intensified, not speaking *to* him, but *about* him. They murmured his name, Jasper, and his adventures.\n",
      "\n",
      "Satisfied, Jasper turned and headed back towards the familiar scent of Eleanor and the comforting warmth of the house. The jay, with a final, cheeky chirp, flew off.\n",
      "\n",
      "The Whispering Woods hadn't given him a treasure, but it had given him something more valuable: a sense of self. And perhaps, just perhaps, the inspiration for a slightly less predictable nap routine. Maybe a nap by the rhododendrons tomorrow. Just to keep things interesting. After all, a cat of discerning tastes also needs a touch of adventure, now and then.\n",
      "\n"
     ]
    }
   ],
   "source": [
    "model_config = types.GenerateContentConfig(\n",
    "    # These are the default values for gemini-2.0-flash.\n",
    "    temperature=1.0,\n",
    "    top_p=0.95,\n",
    ")\n",
    "\n",
    "story_prompt = \"You are a creative writer. Write a short story about a cat who goes on an adventure.\"\n",
    "response = client.models.generate_content(\n",
    "    model='gemini-2.0-flash',\n",
    "    config=model_config,\n",
    "    contents=story_prompt)\n",
    "\n",
    "print(response.text)"
   ]
  },
  {
   "cell_type": "markdown",
   "id": "855dbaeb",
   "metadata": {
    "id": "rMrYs1koY6DX",
    "papermill": {
     "duration": 0.014301,
     "end_time": "2025-04-02T20:40:17.618757",
     "exception": false,
     "start_time": "2025-04-02T20:40:17.604456",
     "status": "completed"
    },
    "tags": []
   },
   "source": [
    "## Prompting\n",
    "\n",
    "This section contains some prompts from the chapter for you to try out directly in the API. Try changing the text here to see how each prompt performs with different instructions, more examples, or any other changes you can think of."
   ]
  },
  {
   "cell_type": "markdown",
   "id": "c2e4f87a",
   "metadata": {
    "id": "hhj_tQidZJP7",
    "papermill": {
     "duration": 0.014425,
     "end_time": "2025-04-02T20:40:17.648605",
     "exception": false,
     "start_time": "2025-04-02T20:40:17.634180",
     "status": "completed"
    },
    "tags": []
   },
   "source": [
    "### Zero-shot\n",
    "\n",
    "Zero-shot prompts are prompts that describe the request for the model directly.\n",
    "\n",
    "<table align=left>\n",
    "  <td>\n",
    "    <a target=\"_blank\" href=\"https://aistudio.google.com/prompts/1gzKKgDHwkAvexG5Up0LMtl1-6jKMKe4g\"><img src=\"https://ai.google.dev/site-assets/images/marketing/home/icon-ais.png\" style=\"height: 24px\" height=24/> Open in AI Studio</a>\n",
    "  </td>\n",
    "</table>"
   ]
  },
  {
   "cell_type": "code",
   "execution_count": 19,
   "id": "f88f6111",
   "metadata": {
    "execution": {
     "iopub.execute_input": "2025-04-02T20:40:17.681060Z",
     "iopub.status.busy": "2025-04-02T20:40:17.680050Z",
     "iopub.status.idle": "2025-04-02T20:40:18.150906Z",
     "shell.execute_reply": "2025-04-02T20:40:18.149602Z"
    },
    "id": "1_t-cwnDZzbH",
    "papermill": {
     "duration": 0.489975,
     "end_time": "2025-04-02T20:40:18.153612",
     "exception": false,
     "start_time": "2025-04-02T20:40:17.663637",
     "status": "completed"
    },
    "tags": []
   },
   "outputs": [
    {
     "name": "stdout",
     "output_type": "stream",
     "text": [
      "POSITIVE\n",
      "\n"
     ]
    }
   ],
   "source": [
    "model_config = types.GenerateContentConfig(\n",
    "    temperature=0.1,\n",
    "    top_p=1,\n",
    "    max_output_tokens=5,\n",
    ")\n",
    "\n",
    "zero_shot_prompt = \"\"\"Classify movie reviews as POSITIVE, NEUTRAL or NEGATIVE.\n",
    "Review: \"Her\" is a disturbing study revealing the direction\n",
    "humanity is headed if AI is allowed to keep evolving,\n",
    "unchecked. I wish there were more movies like this masterpiece.\n",
    "Sentiment: \"\"\"\n",
    "\n",
    "response = client.models.generate_content(\n",
    "    model='gemini-2.0-flash',\n",
    "    config=model_config,\n",
    "    contents=zero_shot_prompt)\n",
    "\n",
    "print(response.text)"
   ]
  },
  {
   "cell_type": "markdown",
   "id": "be2e7a13",
   "metadata": {
    "id": "3b5568bdeb11",
    "papermill": {
     "duration": 0.014706,
     "end_time": "2025-04-02T20:40:18.183330",
     "exception": false,
     "start_time": "2025-04-02T20:40:18.168624",
     "status": "completed"
    },
    "tags": []
   },
   "source": [
    "#### Enum mode\n",
    "\n",
    "The models are trained to generate text, and while the Gemini 2.0 models are great at following instructions, other models can sometimes produce more text than you may wish for. In the preceding example, the model will output the label, but sometimes it can include a preceding \"Sentiment\" label, and without an output token limit, it may also add explanatory text afterwards. See [this prompt in AI Studio](https://aistudio.google.com/prompts/1gzKKgDHwkAvexG5Up0LMtl1-6jKMKe4g) for an example.\n",
    "\n",
    "The Gemini API has an [Enum mode](https://github.com/google-gemini/cookbook/blob/main/quickstarts/Enum.ipynb) feature that allows you to constrain the output to a fixed set of values."
   ]
  },
  {
   "cell_type": "code",
   "execution_count": 20,
   "id": "91c04298",
   "metadata": {
    "execution": {
     "iopub.execute_input": "2025-04-02T20:40:18.216294Z",
     "iopub.status.busy": "2025-04-02T20:40:18.215505Z",
     "iopub.status.idle": "2025-04-02T20:40:18.799026Z",
     "shell.execute_reply": "2025-04-02T20:40:18.797778Z"
    },
    "id": "ad118a56c598",
    "papermill": {
     "duration": 0.603131,
     "end_time": "2025-04-02T20:40:18.801292",
     "exception": false,
     "start_time": "2025-04-02T20:40:18.198161",
     "status": "completed"
    },
    "tags": []
   },
   "outputs": [
    {
     "name": "stdout",
     "output_type": "stream",
     "text": [
      "positive\n"
     ]
    }
   ],
   "source": [
    "import enum\n",
    "\n",
    "class Sentiment(enum.Enum):\n",
    "    POSITIVE = \"positive\"\n",
    "    NEUTRAL = \"neutral\"\n",
    "    NEGATIVE = \"negative\"\n",
    "\n",
    "\n",
    "response = client.models.generate_content(\n",
    "    model='gemini-2.0-flash',\n",
    "    config=types.GenerateContentConfig(\n",
    "        response_mime_type=\"text/x.enum\",\n",
    "        response_schema=Sentiment\n",
    "    ),\n",
    "    contents=zero_shot_prompt)\n",
    "\n",
    "print(response.text)"
   ]
  },
  {
   "cell_type": "markdown",
   "id": "6d763625",
   "metadata": {
    "papermill": {
     "duration": 0.01357,
     "end_time": "2025-04-02T20:40:18.829007",
     "exception": false,
     "start_time": "2025-04-02T20:40:18.815437",
     "status": "completed"
    },
    "tags": []
   },
   "source": [
    "When using constrained output like an enum, the Python SDK will attempt to convert the model's text response into a Python object automatically. It's stored in the `response.parsed` field."
   ]
  },
  {
   "cell_type": "code",
   "execution_count": 21,
   "id": "70a3d825",
   "metadata": {
    "execution": {
     "iopub.execute_input": "2025-04-02T20:40:18.859160Z",
     "iopub.status.busy": "2025-04-02T20:40:18.858283Z",
     "iopub.status.idle": "2025-04-02T20:40:18.863911Z",
     "shell.execute_reply": "2025-04-02T20:40:18.862861Z"
    },
    "papermill": {
     "duration": 0.02322,
     "end_time": "2025-04-02T20:40:18.866044",
     "exception": false,
     "start_time": "2025-04-02T20:40:18.842824",
     "status": "completed"
    },
    "tags": []
   },
   "outputs": [
    {
     "name": "stdout",
     "output_type": "stream",
     "text": [
      "Sentiment.POSITIVE\n",
      "<enum 'Sentiment'>\n"
     ]
    }
   ],
   "source": [
    "enum_response = response.parsed\n",
    "print(enum_response)\n",
    "print(type(enum_response))"
   ]
  },
  {
   "cell_type": "markdown",
   "id": "d6d30968",
   "metadata": {
    "id": "0udiSwNbv45W",
    "papermill": {
     "duration": 0.013689,
     "end_time": "2025-04-02T20:40:18.893857",
     "exception": false,
     "start_time": "2025-04-02T20:40:18.880168",
     "status": "completed"
    },
    "tags": []
   },
   "source": [
    "### One-shot and few-shot\n",
    "\n",
    "Providing an example of the expected response is known as a \"one-shot\" prompt. When you provide multiple examples, it is a \"few-shot\" prompt.\n",
    "\n",
    "<table align=left>\n",
    "  <td>\n",
    "    <a target=\"_blank\" href=\"https://aistudio.google.com/prompts/1jjWkjUSoMXmLvMJ7IzADr_GxHPJVV2bg\"><img src=\"https://ai.google.dev/site-assets/images/marketing/home/icon-ais.png\" style=\"height: 24px\" height=24/> Open in AI Studio</a>\n",
    "  </td>\n",
    "</table>\n"
   ]
  },
  {
   "cell_type": "code",
   "execution_count": 22,
   "id": "a75d8b99",
   "metadata": {
    "execution": {
     "iopub.execute_input": "2025-04-02T20:40:18.923732Z",
     "iopub.status.busy": "2025-04-02T20:40:18.923368Z",
     "iopub.status.idle": "2025-04-02T20:40:19.620589Z",
     "shell.execute_reply": "2025-04-02T20:40:19.619083Z"
    },
    "id": "hd4mVUukwOKZ",
    "papermill": {
     "duration": 0.715513,
     "end_time": "2025-04-02T20:40:19.623459",
     "exception": false,
     "start_time": "2025-04-02T20:40:18.907946",
     "status": "completed"
    },
    "tags": []
   },
   "outputs": [
    {
     "name": "stdout",
     "output_type": "stream",
     "text": [
      "```json\n",
      "{\n",
      "\"size\": \"large\",\n",
      "\"type\": \"normal\",\n",
      "\"ingredients\": [\"cheese\", \"pineapple\"]\n",
      "}\n",
      "```\n",
      "\n"
     ]
    }
   ],
   "source": [
    "few_shot_prompt = \"\"\"Parse a customer's pizza order into valid JSON:\n",
    "\n",
    "EXAMPLE:\n",
    "I want a small pizza with cheese, tomato sauce, and pepperoni.\n",
    "JSON Response:\n",
    "```\n",
    "{\n",
    "\"size\": \"small\",\n",
    "\"type\": \"normal\",\n",
    "\"ingredients\": [\"cheese\", \"tomato sauce\", \"pepperoni\"]\n",
    "}\n",
    "```\n",
    "\n",
    "EXAMPLE:\n",
    "Can I get a large pizza with tomato sauce, basil and mozzarella\n",
    "JSON Response:\n",
    "```\n",
    "{\n",
    "\"size\": \"large\",\n",
    "\"type\": \"normal\",\n",
    "\"ingredients\": [\"tomato sauce\", \"basil\", \"mozzarella\"]\n",
    "}\n",
    "```\n",
    "\n",
    "ORDER:\n",
    "\"\"\"\n",
    "\n",
    "customer_order = \"Give me a large with cheese & pineapple\"\n",
    "\n",
    "response = client.models.generate_content(\n",
    "    model='gemini-2.0-flash',\n",
    "    config=types.GenerateContentConfig(\n",
    "        temperature=0.1,\n",
    "        top_p=1,\n",
    "        max_output_tokens=250,\n",
    "    ),\n",
    "    contents=[few_shot_prompt, customer_order])\n",
    "\n",
    "print(response.text)"
   ]
  },
  {
   "cell_type": "markdown",
   "id": "31409104",
   "metadata": {
    "id": "021293096f08",
    "papermill": {
     "duration": 0.015661,
     "end_time": "2025-04-02T20:40:19.659060",
     "exception": false,
     "start_time": "2025-04-02T20:40:19.643399",
     "status": "completed"
    },
    "tags": []
   },
   "source": [
    "#### JSON mode\n",
    "\n",
    "To provide control over the schema, and to ensure that you only receive JSON (with no other text or markdown), you can use the Gemini API's [JSON mode](https://github.com/google-gemini/cookbook/blob/main/quickstarts/JSON_mode.ipynb). This forces the model to constrain decoding, such that token selection is guided by the supplied schema."
   ]
  },
  {
   "cell_type": "code",
   "execution_count": 23,
   "id": "ad84d188",
   "metadata": {
    "execution": {
     "iopub.execute_input": "2025-04-02T20:40:19.691043Z",
     "iopub.status.busy": "2025-04-02T20:40:19.690596Z",
     "iopub.status.idle": "2025-04-02T20:40:20.435848Z",
     "shell.execute_reply": "2025-04-02T20:40:20.434572Z"
    },
    "id": "50fbf0260912",
    "papermill": {
     "duration": 0.764155,
     "end_time": "2025-04-02T20:40:20.438240",
     "exception": false,
     "start_time": "2025-04-02T20:40:19.674085",
     "status": "completed"
    },
    "tags": []
   },
   "outputs": [
    {
     "name": "stdout",
     "output_type": "stream",
     "text": [
      "{\n",
      "  \"size\": \"large\",\n",
      "  \"ingredients\": [\"apple\", \"chocolate\"],\n",
      "  \"type\": \"dessert\"\n",
      "}\n"
     ]
    }
   ],
   "source": [
    "import typing_extensions as typing\n",
    "\n",
    "class PizzaOrder(typing.TypedDict):\n",
    "    size: str\n",
    "    ingredients: list[str]\n",
    "    type: str\n",
    "\n",
    "\n",
    "response = client.models.generate_content(\n",
    "    model='gemini-2.0-flash',\n",
    "    config=types.GenerateContentConfig(\n",
    "        temperature=0.1,\n",
    "        response_mime_type=\"application/json\",\n",
    "        response_schema=PizzaOrder,\n",
    "    ),\n",
    "    contents=\"Can I have a large dessert pizza with apple and chocolate\")\n",
    "\n",
    "print(response.text)"
   ]
  },
  {
   "cell_type": "markdown",
   "id": "4f31c64d",
   "metadata": {
    "id": "4a93e338e57c",
    "papermill": {
     "duration": 0.014801,
     "end_time": "2025-04-02T20:40:20.468137",
     "exception": false,
     "start_time": "2025-04-02T20:40:20.453336",
     "status": "completed"
    },
    "tags": []
   },
   "source": [
    "### Chain of Thought (CoT)\n",
    "\n",
    "Direct prompting on LLMs can return answers quickly and (in terms of output token usage) efficiently, but they can be prone to hallucination. The answer may \"look\" correct (in terms of language and syntax) but is incorrect in terms of factuality and reasoning.\n",
    "\n",
    "Chain-of-Thought prompting is a technique where you instruct the model to output intermediate reasoning steps, and it typically gets better results, especially when combined with few-shot examples. It is worth noting that this technique doesn't completely eliminate hallucinations, and that it tends to cost more to run, due to the increased token count.\n",
    "\n",
    "Models like the Gemini family are trained to be \"chatty\" or \"thoughtful\" and will provide reasoning steps without prompting, so for this simple example you can ask the model to be more direct in the prompt to force a non-reasoning response. Try re-running this step if the model gets lucky and gets the answer correct on the first try."
   ]
  },
  {
   "cell_type": "code",
   "execution_count": 24,
   "id": "8db91583",
   "metadata": {
    "execution": {
     "iopub.execute_input": "2025-04-02T20:40:20.508840Z",
     "iopub.status.busy": "2025-04-02T20:40:20.508464Z",
     "iopub.status.idle": "2025-04-02T20:40:22.087519Z",
     "shell.execute_reply": "2025-04-02T20:40:22.086418Z"
    },
    "id": "5715555db1c1",
    "papermill": {
     "duration": 1.602237,
     "end_time": "2025-04-02T20:40:22.089598",
     "exception": false,
     "start_time": "2025-04-02T20:40:20.487361",
     "status": "completed"
    },
    "tags": []
   },
   "outputs": [
    {
     "name": "stdout",
     "output_type": "stream",
     "text": [
      "52\n",
      "\n"
     ]
    }
   ],
   "source": [
    "prompt = \"\"\"When I was 4 years old, my partner was 3 times my age. Now, I\n",
    "am 20 years old. How old is my partner? Return the answer directly.\"\"\"\n",
    "\n",
    "response = client.models.generate_content(\n",
    "    model='gemini-2.0-flash',\n",
    "    contents=prompt)\n",
    "\n",
    "print(response.text)"
   ]
  },
  {
   "cell_type": "markdown",
   "id": "9cb1d23d",
   "metadata": {
    "id": "e12b19677bfd",
    "papermill": {
     "duration": 0.014006,
     "end_time": "2025-04-02T20:40:22.118094",
     "exception": false,
     "start_time": "2025-04-02T20:40:22.104088",
     "status": "completed"
    },
    "tags": []
   },
   "source": [
    "Now try the same approach, but indicate to the model that it should \"think step by step\"."
   ]
  },
  {
   "cell_type": "code",
   "execution_count": 25,
   "id": "dbceb503",
   "metadata": {
    "execution": {
     "iopub.execute_input": "2025-04-02T20:40:22.148467Z",
     "iopub.status.busy": "2025-04-02T20:40:22.147504Z",
     "iopub.status.idle": "2025-04-02T20:41:13.272786Z",
     "shell.execute_reply": "2025-04-02T20:41:13.271740Z"
    },
    "id": "ffd7536a481f",
    "papermill": {
     "duration": 51.157728,
     "end_time": "2025-04-02T20:41:13.289944",
     "exception": false,
     "start_time": "2025-04-02T20:40:22.132216",
     "status": "completed"
    },
    "tags": []
   },
   "outputs": [
    {
     "data": {
      "text/markdown": [
       "Here's how to solve this step-by-step:\n",
       "\n",
       "1. **Find the age difference:** When you were 4, your partner was 3 times your age, meaning they were 4 * 3 = 12 years old.\n",
       "2. **Calculate the age difference:** The age difference between you and your partner is 12 - 4 = 8 years.\n",
       "3. **Determine the partner's current age:** Since the age difference remains constant, your partner is always 8 years older than you.  Therefore, your partner is currently 20 + 8 = 28 years old.\n",
       "\n",
       "**So, your partner is 28 years old.**\n"
      ],
      "text/plain": [
       "<IPython.core.display.Markdown object>"
      ]
     },
     "execution_count": 25,
     "metadata": {},
     "output_type": "execute_result"
    }
   ],
   "source": [
    "prompt = \"\"\"When I was 4 years old, my partner was 3 times my age. Now,\n",
    "I am 20 years old. How old is my partner? Let's think step by step.\"\"\"\n",
    "\n",
    "response = client.models.generate_content(\n",
    "    model='gemini-2.0-flash',\n",
    "    contents=prompt)\n",
    "\n",
    "Markdown(response.text)"
   ]
  },
  {
   "cell_type": "markdown",
   "id": "9ec47aff",
   "metadata": {
    "id": "oiLgBQJj0V53",
    "papermill": {
     "duration": 0.015931,
     "end_time": "2025-04-02T20:41:13.321224",
     "exception": false,
     "start_time": "2025-04-02T20:41:13.305293",
     "status": "completed"
    },
    "tags": []
   },
   "source": [
    "### ReAct: Reason and act\n",
    "\n",
    "In this example you will run a ReAct prompt directly in the Gemini API and perform the searching steps yourself. As this prompt follows a well-defined structure, there are frameworks available that wrap the prompt into easier-to-use APIs that make tool calls automatically, such as the LangChain example from the \"Prompting\" whitepaper.\n",
    "\n",
    "To try this out with the Wikipedia search engine, check out the [Searching Wikipedia with ReAct](https://github.com/google-gemini/cookbook/blob/main/examples/Search_Wikipedia_using_ReAct.ipynb) cookbook example.\n",
    "\n",
    "\n",
    "> Note: The prompt and in-context examples used here are from [https://github.com/ysymyth/ReAct](https://github.com/ysymyth/ReAct) which is published under an [MIT license](https://opensource.org/licenses/MIT), Copyright (c) 2023 Shunyu Yao.\n",
    "\n",
    "<table align=left>\n",
    "  <td>\n",
    "    <a target=\"_blank\" href=\"https://aistudio.google.com/prompts/18oo63Lwosd-bQ6Ay51uGogB3Wk3H8XMO\"><img src=\"https://ai.google.dev/site-assets/images/marketing/home/icon-ais.png\" style=\"height: 24px\" height=24/> Open in AI Studio</a>\n",
    "  </td>\n",
    "</table>\n"
   ]
  },
  {
   "cell_type": "code",
   "execution_count": 26,
   "id": "8dcb6cc3",
   "metadata": {
    "execution": {
     "iopub.execute_input": "2025-04-02T20:41:13.354641Z",
     "iopub.status.busy": "2025-04-02T20:41:13.353506Z",
     "iopub.status.idle": "2025-04-02T20:41:13.361462Z",
     "shell.execute_reply": "2025-04-02T20:41:13.360327Z"
    },
    "id": "cBgyNJ5z0VSs",
    "papermill": {
     "duration": 0.027071,
     "end_time": "2025-04-02T20:41:13.363713",
     "exception": false,
     "start_time": "2025-04-02T20:41:13.336642",
     "status": "completed"
    },
    "tags": []
   },
   "outputs": [],
   "source": [
    "model_instructions = \"\"\"\n",
    "Solve a question answering task with interleaving Thought, Action, Observation steps. Thought can reason about the current situation,\n",
    "Observation is understanding relevant information from an Action's output and Action can be one of three types:\n",
    " (1) <search>entity</search>, which searches the exact entity on Wikipedia and returns the first paragraph if it exists. If not, it\n",
    "     will return some similar entities to search and you can try to search the information from those topics.\n",
    " (2) <lookup>keyword</lookup>, which returns the next sentence containing keyword in the current context. This only does exact matches,\n",
    "     so keep your searches short.\n",
    " (3) <finish>answer</finish>, which returns the answer and finishes the task.\n",
    "\"\"\"\n",
    "\n",
    "example1 = \"\"\"Question\n",
    "Musician and satirist Allie Goertz wrote a song about the \"The Simpsons\" character Milhouse, who Matt Groening named after who?\n",
    "\n",
    "Thought 1\n",
    "The question simplifies to \"The Simpsons\" character Milhouse is named after who. I only need to search Milhouse and find who it is named after.\n",
    "\n",
    "Action 1\n",
    "<search>Milhouse</search>\n",
    "\n",
    "Observation 1\n",
    "Milhouse Mussolini Van Houten is a recurring character in the Fox animated television series The Simpsons voiced by Pamela Hayden and created by Matt Groening.\n",
    "\n",
    "Thought 2\n",
    "The paragraph does not tell who Milhouse is named after, maybe I can look up \"named after\".\n",
    "\n",
    "Action 2\n",
    "<lookup>named after</lookup>\n",
    "\n",
    "Observation 2\n",
    "Milhouse was named after U.S. president Richard Nixon, whose middle name was Milhous.\n",
    "\n",
    "Thought 3\n",
    "Milhouse was named after U.S. president Richard Nixon, so the answer is Richard Nixon.\n",
    "\n",
    "Action 3\n",
    "<finish>Richard Nixon</finish>\n",
    "\"\"\"\n",
    "\n",
    "example2 = \"\"\"Question\n",
    "What is the elevation range for the area that the eastern sector of the Colorado orogeny extends into?\n",
    "\n",
    "Thought 1\n",
    "I need to search Colorado orogeny, find the area that the eastern sector of the Colorado orogeny extends into, then find the elevation range of the area.\n",
    "\n",
    "Action 1\n",
    "<search>Colorado orogeny</search>\n",
    "\n",
    "Observation 1\n",
    "The Colorado orogeny was an episode of mountain building (an orogeny) in Colorado and surrounding areas.\n",
    "\n",
    "Thought 2\n",
    "It does not mention the eastern sector. So I need to look up eastern sector.\n",
    "\n",
    "Action 2\n",
    "<lookup>eastern sector</lookup>\n",
    "\n",
    "Observation 2\n",
    "The eastern sector extends into the High Plains and is called the Central Plains orogeny.\n",
    "\n",
    "Thought 3\n",
    "The eastern sector of Colorado orogeny extends into the High Plains. So I need to search High Plains and find its elevation range.\n",
    "\n",
    "Action 3\n",
    "<search>High Plains</search>\n",
    "\n",
    "Observation 3\n",
    "High Plains refers to one of two distinct land regions\n",
    "\n",
    "Thought 4\n",
    "I need to instead search High Plains (United States).\n",
    "\n",
    "Action 4\n",
    "<search>High Plains (United States)</search>\n",
    "\n",
    "Observation 4\n",
    "The High Plains are a subregion of the Great Plains. From east to west, the High Plains rise in elevation from around 1,800 to 7,000 ft (550 to 2,130m).\n",
    "\n",
    "Thought 5\n",
    "High Plains rise in elevation from around 1,800 to 7,000 ft, so the answer is 1,800 to 7,000 ft.\n",
    "\n",
    "Action 5\n",
    "<finish>1,800 to 7,000 ft</finish>\n",
    "\"\"\"\n",
    "\n",
    "# Come up with more examples yourself, or take a look through https://github.com/ysymyth/ReAct/"
   ]
  },
  {
   "cell_type": "markdown",
   "id": "8d1e8935",
   "metadata": {
    "id": "C3wbfstjTgey",
    "papermill": {
     "duration": 0.015886,
     "end_time": "2025-04-02T20:41:13.395386",
     "exception": false,
     "start_time": "2025-04-02T20:41:13.379500",
     "status": "completed"
    },
    "tags": []
   },
   "source": [
    "To capture a single step at a time, while ignoring any hallucinated Observation steps, you will use `stop_sequences` to end the generation process. The steps are `Thought`, `Action`, `Observation`, in that order."
   ]
  },
  {
   "cell_type": "code",
   "execution_count": 27,
   "id": "e09c6fe5",
   "metadata": {
    "execution": {
     "iopub.execute_input": "2025-04-02T20:41:13.428470Z",
     "iopub.status.busy": "2025-04-02T20:41:13.427954Z",
     "iopub.status.idle": "2025-04-02T20:41:14.127441Z",
     "shell.execute_reply": "2025-04-02T20:41:14.126311Z"
    },
    "id": "8mxrXRkRTdXm",
    "papermill": {
     "duration": 0.719433,
     "end_time": "2025-04-02T20:41:14.130219",
     "exception": false,
     "start_time": "2025-04-02T20:41:13.410786",
     "status": "completed"
    },
    "tags": []
   },
   "outputs": [
    {
     "name": "stdout",
     "output_type": "stream",
     "text": [
      "Thought 1\n",
      "I need to find the transformers NLP paper and then identify the youngest author listed on the paper.\n",
      "\n",
      "Action 1\n",
      "<search>transformers NLP paper</search>\n",
      "\n"
     ]
    }
   ],
   "source": [
    "question = \"\"\"Question\n",
    "Who was the youngest author listed on the transformers NLP paper?\n",
    "\"\"\"\n",
    "\n",
    "# You will perform the Action; so generate up to, but not including, the Observation.\n",
    "react_config = types.GenerateContentConfig(\n",
    "    stop_sequences=[\"\\nObservation\"],\n",
    "    system_instruction=model_instructions + example1 + example2,\n",
    ")\n",
    "\n",
    "# Create a chat that has the model instructions and examples pre-seeded.\n",
    "react_chat = client.chats.create(\n",
    "    model='gemini-2.0-flash',\n",
    "    config=react_config,\n",
    ")\n",
    "\n",
    "resp = react_chat.send_message(question)\n",
    "print(resp.text)"
   ]
  },
  {
   "cell_type": "markdown",
   "id": "85681f8c",
   "metadata": {
    "id": "aW2PIdLbVv3l",
    "papermill": {
     "duration": 0.01536,
     "end_time": "2025-04-02T20:41:14.161443",
     "exception": false,
     "start_time": "2025-04-02T20:41:14.146083",
     "status": "completed"
    },
    "tags": []
   },
   "source": [
    "Now you can perform this research yourself and supply it back to the model."
   ]
  },
  {
   "cell_type": "code",
   "execution_count": 28,
   "id": "9f2b1e1c",
   "metadata": {
    "execution": {
     "iopub.execute_input": "2025-04-02T20:41:14.195052Z",
     "iopub.status.busy": "2025-04-02T20:41:14.194547Z",
     "iopub.status.idle": "2025-04-02T20:41:15.280904Z",
     "shell.execute_reply": "2025-04-02T20:41:15.279697Z"
    },
    "id": "mLMc0DZaV9g2",
    "papermill": {
     "duration": 1.105941,
     "end_time": "2025-04-02T20:41:15.283462",
     "exception": false,
     "start_time": "2025-04-02T20:41:14.177521",
     "status": "completed"
    },
    "tags": []
   },
   "outputs": [
    {
     "name": "stdout",
     "output_type": "stream",
     "text": [
      "Thought 2\n",
      "The paper is \"Attention Is All You Need\". I need to find the youngest author among Ashish Vaswani, Noam Shazeer, Niki Parmar, Jakob Uszkoreit, Llion Jones, Aidan N. Gomez, Lukasz Kaiser, Illia Polosukhin. I can't easily find the age of each author, so I will try to search for information about each one starting with the first author.\n",
      "\n",
      "Action 2\n",
      "<search>Ashish Vaswani age</search>\n",
      "\n"
     ]
    }
   ],
   "source": [
    "observation = \"\"\"Observation 1\n",
    "[1706.03762] Attention Is All You Need\n",
    "Ashish Vaswani, Noam Shazeer, Niki Parmar, Jakob Uszkoreit, Llion Jones, Aidan N. Gomez, Lukasz Kaiser, Illia Polosukhin\n",
    "We propose a new simple network architecture, the Transformer, based solely on attention mechanisms, dispensing with recurrence and convolutions entirely.\n",
    "\"\"\"\n",
    "resp = react_chat.send_message(observation)\n",
    "print(resp.text)"
   ]
  },
  {
   "cell_type": "markdown",
   "id": "d2d33326",
   "metadata": {
    "id": "bo0tzf4nX6dA",
    "papermill": {
     "duration": 0.015828,
     "end_time": "2025-04-02T20:41:15.315197",
     "exception": false,
     "start_time": "2025-04-02T20:41:15.299369",
     "status": "completed"
    },
    "tags": []
   },
   "source": [
    "This process repeats until the `<finish>` action is reached. You can continue running this yourself if you like, or try the [Wikipedia example](https://github.com/google-gemini/cookbook/blob/main/examples/Search_Wikipedia_using_ReAct.ipynb) to see a fully automated ReAct system at work."
   ]
  },
  {
   "cell_type": "markdown",
   "id": "025ab61c",
   "metadata": {
    "papermill": {
     "duration": 0.015011,
     "end_time": "2025-04-02T20:41:15.345470",
     "exception": false,
     "start_time": "2025-04-02T20:41:15.330459",
     "status": "completed"
    },
    "tags": []
   },
   "source": [
    "## Thinking mode\n",
    "\n",
    "The experiemental Gemini Flash 2.0 \"Thinking\" model has been trained to generate the \"thinking process\" the model goes through as part of its response. As a result, the Flash Thinking model is capable of stronger reasoning capabilities in its responses.\n",
    "\n",
    "Using a \"thinking mode\" model can provide you with high-quality responses without needing specialised prompting like the previous approaches. One reason this technique is effective is that you induce the model to generate relevant information (\"brainstorming\", or \"thoughts\") that is then used as part of the context in which the final response is generated.\n",
    "\n",
    "Note that when you use the API, you get the final response from the model, but the thoughts are not captured. To see the intermediate thoughts, try out [the thinking mode model in AI Studio](https://aistudio.google.com/prompts/new_chat?model=gemini-2.0-flash-thinking-exp-01-21).\n",
    "\n",
    "<table align=left>\n",
    "  <td>\n",
    "    <a target=\"_blank\" href=\"https://aistudio.google.com/prompts/1Z991SV7lZZZqioOiqIUPv9a9ix-ws4zk\"><img src=\"https://ai.google.dev/site-assets/images/marketing/home/icon-ais.png\" style=\"height: 24px\" height=24/> Open in AI Studio</a>\n",
    "  </td>\n",
    "</table>"
   ]
  },
  {
   "cell_type": "code",
   "execution_count": 29,
   "id": "fd9493de",
   "metadata": {
    "execution": {
     "iopub.execute_input": "2025-04-02T20:41:15.378343Z",
     "iopub.status.busy": "2025-04-02T20:41:15.377469Z",
     "iopub.status.idle": "2025-04-02T20:41:23.576864Z",
     "shell.execute_reply": "2025-04-02T20:41:23.575770Z"
    },
    "papermill": {
     "duration": 8.218673,
     "end_time": "2025-04-02T20:41:23.579343",
     "exception": false,
     "start_time": "2025-04-02T20:41:15.360670",
     "status": "completed"
    },
    "tags": []
   },
   "outputs": [
    {
     "data": {
      "text/markdown": [
       "The youngest author listed on the \"Attention is All You Need\" paper (the foundational paper for Transformers in NLP) is **Aidan N. Gomez**.\n",
       "\n",
       "Here's why and how we can determine this:\n",
       "\n",
       "* **\"Attention is All You Need\" Paper Authors:** The authors are Ashish Vaswani, Noam Shazeer, Niki Parmar, Jakob Uszkoreit, Llion Jones, Aidan N. Gomez, Łukasz Kaiser, and Illia Polosukhin.\n",
       "* **Context Clues:**  Looking at the affiliations of the authors at the time of publication (2017), and subsequent career paths, provides clues:\n",
       "    * **Google Brain:** Most of the authors (Vaswani, Shazeer, Parmar, Uszkoreit, Jones, Kaiser, Polosukhin) were affiliated with Google Brain. This generally implies more established researchers, likely post-PhD and working as research scientists or engineers.\n",
       "    * **University of Toronto (Aidan N. Gomez):** Aidan N. Gomez was listed as being affiliated with the University of Toronto.  At the time of the paper, he was a **PhD student** under Geoffrey Hinton.  Being a PhD student makes him statistically likely to be younger than established researchers at Google Brain.\n",
       "\n",
       "* **Further Confirmation (though not strictly necessary for a reasonable answer):** A quick search online about Aidan N. Gomez around the time of the paper's publication confirms he was indeed a PhD student.  His subsequent career path also aligns with someone early in their research career.\n",
       "\n",
       "**Therefore, based on the context of affiliations and common career progression in academia and research, Aidan N. Gomez is very likely the youngest author on the \"Attention is All You Need\" paper.**\n",
       "\n",
       "While we don't have definitive birth dates for all authors to confirm with 100% certainty, the evidence strongly points to Aidan N. Gomez being the youngest."
      ],
      "text/plain": [
       "<IPython.core.display.Markdown object>"
      ]
     },
     "execution_count": 29,
     "metadata": {},
     "output_type": "execute_result"
    }
   ],
   "source": [
    "import io\n",
    "from IPython.display import Markdown, clear_output\n",
    "\n",
    "\n",
    "response = client.models.generate_content_stream(\n",
    "    model='gemini-2.0-flash-thinking-exp',\n",
    "    contents='Who was the youngest author listed on the transformers NLP paper?',\n",
    ")\n",
    "\n",
    "buf = io.StringIO()\n",
    "for chunk in response:\n",
    "    buf.write(chunk.text)\n",
    "    # Display the response as it is streamed\n",
    "    print(chunk.text, end='')\n",
    "\n",
    "# And then render the finished response as formatted markdown.\n",
    "clear_output()\n",
    "Markdown(buf.getvalue())"
   ]
  },
  {
   "cell_type": "markdown",
   "id": "c952b55d",
   "metadata": {
    "id": "jPiZ_eIIaVPt",
    "papermill": {
     "duration": 0.014529,
     "end_time": "2025-04-02T20:41:23.609427",
     "exception": false,
     "start_time": "2025-04-02T20:41:23.594898",
     "status": "completed"
    },
    "tags": []
   },
   "source": [
    "## Code prompting"
   ]
  },
  {
   "cell_type": "markdown",
   "id": "3f029c3c",
   "metadata": {
    "id": "ZinKamwXeR6C",
    "papermill": {
     "duration": 0.015119,
     "end_time": "2025-04-02T20:41:23.639768",
     "exception": false,
     "start_time": "2025-04-02T20:41:23.624649",
     "status": "completed"
    },
    "tags": []
   },
   "source": [
    "### Generating code\n",
    "\n",
    "The Gemini family of models can be used to generate code, configuration and scripts. Generating code can be helpful when learning to code, learning a new language or for rapidly generating a first draft.\n",
    "\n",
    "It's important to be aware that since LLMs can make mistakes, and can repeat training data, it's essential to read and test your code first, and comply with any relevant licenses.\n",
    "\n",
    "<table align=left>\n",
    "  <td>\n",
    "    <a target=\"_blank\" href=\"https://aistudio.google.com/prompts/1YX71JGtzDjXQkgdes8bP6i3oH5lCRKxv\"><img src=\"https://ai.google.dev/site-assets/images/marketing/home/icon-ais.png\" style=\"height: 24px\" height=24/> Open in AI Studio</a>\n",
    "  </td>\n",
    "</table>"
   ]
  },
  {
   "cell_type": "code",
   "execution_count": 30,
   "id": "64f8f281",
   "metadata": {
    "execution": {
     "iopub.execute_input": "2025-04-02T20:41:23.670786Z",
     "iopub.status.busy": "2025-04-02T20:41:23.670408Z",
     "iopub.status.idle": "2025-04-02T20:41:24.303797Z",
     "shell.execute_reply": "2025-04-02T20:41:24.302687Z"
    },
    "id": "fOQP9pqmeUO1",
    "papermill": {
     "duration": 0.651856,
     "end_time": "2025-04-02T20:41:24.306175",
     "exception": false,
     "start_time": "2025-04-02T20:41:23.654319",
     "status": "completed"
    },
    "tags": []
   },
   "outputs": [
    {
     "data": {
      "text/markdown": [
       "```python\n",
       "def factorial(n):\n",
       "  \"\"\"Calculates the factorial of a non-negative integer.\"\"\"\n",
       "  if n == 0:\n",
       "    return 1\n",
       "  else:\n",
       "    return n * factorial(n-1)\n",
       "```\n"
      ],
      "text/plain": [
       "<IPython.core.display.Markdown object>"
      ]
     },
     "execution_count": 30,
     "metadata": {},
     "output_type": "execute_result"
    }
   ],
   "source": [
    "# The Gemini models love to talk, so it helps to specify they stick to the code if that\n",
    "# is all that you want.\n",
    "code_prompt = \"\"\"\n",
    "Write a Python function to calculate the factorial of a number. No explanation, provide only the code.\n",
    "\"\"\"\n",
    "\n",
    "response = client.models.generate_content(\n",
    "    model='gemini-2.0-flash',\n",
    "    config=types.GenerateContentConfig(\n",
    "        temperature=1,\n",
    "        top_p=1,\n",
    "        max_output_tokens=1024,\n",
    "    ),\n",
    "    contents=code_prompt)\n",
    "\n",
    "Markdown(response.text)"
   ]
  },
  {
   "cell_type": "markdown",
   "id": "eabd2283",
   "metadata": {
    "id": "wlBMWSFhgVRQ",
    "papermill": {
     "duration": 0.01474,
     "end_time": "2025-04-02T20:41:24.336166",
     "exception": false,
     "start_time": "2025-04-02T20:41:24.321426",
     "status": "completed"
    },
    "tags": []
   },
   "source": [
    "### Code execution\n",
    "\n",
    "The Gemini API can automatically run generated code too, and will return the output.\n",
    "\n",
    "<table align=left>\n",
    "  <td>\n",
    "    <a target=\"_blank\" href=\"https://aistudio.google.com/prompts/11veFr_VYEwBWcLkhNLr-maCG0G8sS_7Z\"><img src=\"https://ai.google.dev/site-assets/images/marketing/home/icon-ais.png\" style=\"height: 24px\" height=24/> Open in AI Studio</a>\n",
    "  </td>\n",
    "</table>"
   ]
  },
  {
   "cell_type": "code",
   "execution_count": 31,
   "id": "0812700d",
   "metadata": {
    "execution": {
     "iopub.execute_input": "2025-04-02T20:41:24.368020Z",
     "iopub.status.busy": "2025-04-02T20:41:24.367498Z",
     "iopub.status.idle": "2025-04-02T20:41:26.784497Z",
     "shell.execute_reply": "2025-04-02T20:41:26.783253Z"
    },
    "id": "jT3OfWYfhjRL",
    "papermill": {
     "duration": 2.435761,
     "end_time": "2025-04-02T20:41:26.786792",
     "exception": false,
     "start_time": "2025-04-02T20:41:24.351031",
     "status": "completed"
    },
    "tags": []
   },
   "outputs": [
    {
     "name": "stdout",
     "output_type": "stream",
     "text": [
      "{'text': 'Okay, I can do that. First, I need to generate the first 14 odd '\n",
      "         'prime numbers. Remember that a prime number is a number greater than '\n",
      "         '1 that has no positive divisors other than 1 and itself. Also, the '\n",
      "         'only even prime number is 2, so I need to exclude that from my '\n",
      "         'list.\\n'\n",
      "         '\\n'\n",
      "         \"Here's how I'll do it:\\n\"\n",
      "         '\\n'\n",
      "         '1.  Start listing prime numbers, skipping even numbers.\\n'\n",
      "         '2.  Keep track of how many odd prime numbers I have found.\\n'\n",
      "         \"3.  Stop when I've found 14 odd prime numbers.\\n\"\n",
      "         '4. Calculate the sum of those 14 numbers.\\n'\n",
      "         '\\n'\n",
      "         \"Here's the list of the first 14 odd prime numbers: 3, 5, 7, 11, 13, \"\n",
      "         '17, 19, 23, 29, 31, 37, 41, 43, 47\\n'\n",
      "         '\\n'\n",
      "         'Now, I will use the python tool to calculate the sum.\\n'\n",
      "         '\\n'}\n",
      "-----\n",
      "{'executable_code': {'code': 'numbers = [3, 5, 7, 11, 13, 17, 19, 23, 29, 31, '\n",
      "                             '37, 41, 43, 47]\\n'\n",
      "                             'total = sum(numbers)\\n'\n",
      "                             'print(total)\\n',\n",
      "                     'language': 'PYTHON'}}\n",
      "-----\n",
      "{'code_execution_result': {'outcome': 'OUTCOME_OK', 'output': '326\\n'}}\n",
      "-----\n",
      "{'text': 'The sum of the first 14 odd prime numbers is 326.\\n'}\n",
      "-----\n"
     ]
    }
   ],
   "source": [
    "from pprint import pprint\n",
    "\n",
    "config = types.GenerateContentConfig(\n",
    "    tools=[types.Tool(code_execution=types.ToolCodeExecution())],\n",
    ")\n",
    "\n",
    "code_exec_prompt = \"\"\"\n",
    "Generate the first 14 odd prime numbers, then calculate their sum.\n",
    "\"\"\"\n",
    "\n",
    "response = client.models.generate_content(\n",
    "    model='gemini-2.0-flash',\n",
    "    config=config,\n",
    "    contents=code_exec_prompt)\n",
    "\n",
    "for part in response.candidates[0].content.parts:\n",
    "  pprint(part.to_json_dict())\n",
    "  print(\"-----\")"
   ]
  },
  {
   "cell_type": "markdown",
   "id": "18ebd672",
   "metadata": {
    "id": "ZspT1GSkjG6d",
    "papermill": {
     "duration": 0.01596,
     "end_time": "2025-04-02T20:41:26.818528",
     "exception": false,
     "start_time": "2025-04-02T20:41:26.802568",
     "status": "completed"
    },
    "tags": []
   },
   "source": [
    "This response contains multiple parts, including an opening and closing text part that represent regular responses, an `executable_code` part that represents generated code and a `code_execution_result` part that represents the results from running the generated code.\n",
    "\n",
    "You can explore them individually."
   ]
  },
  {
   "cell_type": "code",
   "execution_count": 32,
   "id": "fe796a5e",
   "metadata": {
    "execution": {
     "iopub.execute_input": "2025-04-02T20:41:26.850781Z",
     "iopub.status.busy": "2025-04-02T20:41:26.850336Z",
     "iopub.status.idle": "2025-04-02T20:41:26.863054Z",
     "shell.execute_reply": "2025-04-02T20:41:26.862076Z"
    },
    "papermill": {
     "duration": 0.031206,
     "end_time": "2025-04-02T20:41:26.864977",
     "exception": false,
     "start_time": "2025-04-02T20:41:26.833771",
     "status": "completed"
    },
    "tags": []
   },
   "outputs": [
    {
     "data": {
      "text/markdown": [
       "Okay, I can do that. First, I need to generate the first 14 odd prime numbers. Remember that a prime number is a number greater than 1 that has no positive divisors other than 1 and itself. Also, the only even prime number is 2, so I need to exclude that from my list.\n",
       "\n",
       "Here's how I'll do it:\n",
       "\n",
       "1.  Start listing prime numbers, skipping even numbers.\n",
       "2.  Keep track of how many odd prime numbers I have found.\n",
       "3.  Stop when I've found 14 odd prime numbers.\n",
       "4. Calculate the sum of those 14 numbers.\n",
       "\n",
       "Here's the list of the first 14 odd prime numbers: 3, 5, 7, 11, 13, 17, 19, 23, 29, 31, 37, 41, 43, 47\n",
       "\n",
       "Now, I will use the python tool to calculate the sum.\n",
       "\n"
      ],
      "text/plain": [
       "<IPython.core.display.Markdown object>"
      ]
     },
     "metadata": {},
     "output_type": "display_data"
    },
    {
     "data": {
      "text/markdown": [
       "```python\n",
       "numbers = [3, 5, 7, 11, 13, 17, 19, 23, 29, 31, 37, 41, 43, 47]\n",
       "total = sum(numbers)\n",
       "print(total)\n",
       "\n",
       "```"
      ],
      "text/plain": [
       "<IPython.core.display.Markdown object>"
      ]
     },
     "metadata": {},
     "output_type": "display_data"
    },
    {
     "data": {
      "text/markdown": [
       "```\n",
       "326\n",
       "\n",
       "```"
      ],
      "text/plain": [
       "<IPython.core.display.Markdown object>"
      ]
     },
     "metadata": {},
     "output_type": "display_data"
    },
    {
     "data": {
      "text/markdown": [
       "The sum of the first 14 odd prime numbers is 326.\n"
      ],
      "text/plain": [
       "<IPython.core.display.Markdown object>"
      ]
     },
     "metadata": {},
     "output_type": "display_data"
    }
   ],
   "source": [
    "for part in response.candidates[0].content.parts:\n",
    "    if part.text:\n",
    "        display(Markdown(part.text))\n",
    "    elif part.executable_code:\n",
    "        display(Markdown(f'```python\\n{part.executable_code.code}\\n```'))\n",
    "    elif part.code_execution_result:\n",
    "        if part.code_execution_result.outcome != 'OUTCOME_OK':\n",
    "            display(Markdown(f'## Status {part.code_execution_result.outcome}'))\n",
    "\n",
    "        display(Markdown(f'```\\n{part.code_execution_result.output}\\n```'))"
   ]
  },
  {
   "cell_type": "markdown",
   "id": "ceb1bbf1",
   "metadata": {
    "id": "1gUX8QzCj4d5",
    "papermill": {
     "duration": 0.015211,
     "end_time": "2025-04-02T20:41:26.895793",
     "exception": false,
     "start_time": "2025-04-02T20:41:26.880582",
     "status": "completed"
    },
    "tags": []
   },
   "source": [
    "### Explaining code\n",
    "\n",
    "The Gemini family of models can explain code to you too. In this example, you pass a [bash script](https://github.com/magicmonty/bash-git-prompt) and ask some questions.\n",
    "\n",
    "<table align=left>\n",
    "  <td>\n",
    "    <a target=\"_blank\" href=\"https://aistudio.google.com/prompts/1N7LGzWzCYieyOf_7bAG4plrmkpDNmUyb\"><img src=\"https://ai.google.dev/site-assets/images/marketing/home/icon-ais.png\" style=\"height: 24px\" height=24/> Open in AI Studio</a>\n",
    "  </td>\n",
    "</table>"
   ]
  },
  {
   "cell_type": "code",
   "execution_count": 33,
   "id": "d3ecf076",
   "metadata": {
    "execution": {
     "iopub.execute_input": "2025-04-02T20:41:26.927828Z",
     "iopub.status.busy": "2025-04-02T20:41:26.927446Z",
     "iopub.status.idle": "2025-04-02T20:41:29.630864Z",
     "shell.execute_reply": "2025-04-02T20:41:29.629628Z"
    },
    "id": "7_jPMMoxkIEb",
    "papermill": {
     "duration": 2.722645,
     "end_time": "2025-04-02T20:41:29.633686",
     "exception": false,
     "start_time": "2025-04-02T20:41:26.911041",
     "status": "completed"
    },
    "tags": []
   },
   "outputs": [
    {
     "data": {
      "text/markdown": [
       "This file, `git-prompt.sh`, is a Bash script designed to enhance your command-line prompt with information about the current Git repository.\n",
       "\n",
       "**What it does:**\n",
       "\n",
       "*   **Displays Git Status:** It shows the current branch, whether there are uncommitted changes, staged files, conflicts, and other relevant Git information directly in your terminal prompt.\n",
       "*   **Customization:** It allows you to customize the colors, symbols, and information displayed in the prompt to suit your preferences.\n",
       "*   **Asynchronous Updates:** It fetches remote Git status updates in the background, preventing the prompt from becoming slow.\n",
       "*   **Theme Support:** Supports the ability to load themes, allowing for flexible and consistent appearance.\n",
       "*   **Virtual Environment Support:** Indicates which virtual environment you are currently in.\n",
       "\n",
       "**Why you would use it:**\n",
       "\n",
       "*   **Quickly See Git Status:**  At a glance, you can tell if your working directory is clean, if there are changes to commit, or if your branch is ahead/behind the remote.\n",
       "*   **Improved Workflow:** It helps you stay aware of your Git status, reducing errors and improving your development workflow.\n",
       "*   **Personalized Prompt:**  You can tailor the prompt to display the information that is most important to you, in a style that you find visually appealing.\n",
       "\n",
       "In essence, it makes your command line more informative and Git-aware, streamlining your interactions with Git repositories.  You would typically source this script in your `.bashrc` or `.zshrc` file so that the enhanced prompt is available every time you open a new terminal.\n"
      ],
      "text/plain": [
       "<IPython.core.display.Markdown object>"
      ]
     },
     "execution_count": 33,
     "metadata": {},
     "output_type": "execute_result"
    }
   ],
   "source": [
    "file_contents = !curl https://raw.githubusercontent.com/magicmonty/bash-git-prompt/refs/heads/master/gitprompt.sh\n",
    "\n",
    "explain_prompt = f\"\"\"\n",
    "Please explain what this file does at a very high level. What is it, and why would I use it?\n",
    "\n",
    "```\n",
    "{file_contents}\n",
    "```\n",
    "\"\"\"\n",
    "\n",
    "response = client.models.generate_content(\n",
    "    model='gemini-2.0-flash',\n",
    "    contents=explain_prompt)\n",
    "\n",
    "Markdown(response.text)"
   ]
  },
  {
   "cell_type": "markdown",
   "id": "45267352",
   "metadata": {
    "id": "2a8266d97ce5",
    "papermill": {
     "duration": 0.015958,
     "end_time": "2025-04-02T20:41:29.666501",
     "exception": false,
     "start_time": "2025-04-02T20:41:29.650543",
     "status": "completed"
    },
    "tags": []
   },
   "source": [
    "## Learn more\n",
    "\n",
    "To learn more about prompting in depth:\n",
    "\n",
    "* Check out the whitepaper issued with today's content,\n",
    "* Try out the apps listed at the top of this notebook ([TextFX](https://textfx.withgoogle.com/), [SQL Talk](https://sql-talk-r5gdynozbq-uc.a.run.app/) and [NotebookLM](https://notebooklm.google/)),\n",
    "* Read the [Introduction to Prompting](https://ai.google.dev/gemini-api/docs/prompting-intro) from the Gemini API docs,\n",
    "* Explore the Gemini API's [prompt gallery](https://ai.google.dev/gemini-api/prompts) and try them out in AI Studio,\n",
    "* Check out the Gemini API cookbook for [inspirational examples](https://github.com/google-gemini/cookbook/blob/main/examples/) and [educational quickstarts](https://github.com/google-gemini/cookbook/blob/main/quickstarts/).\n",
    "\n",
    "Be sure to check out the codelabs on day 3 too, where you will explore some more advanced prompting with code execution.\n",
    "\n",
    "And please share anything exciting you have tried in the Discord!\n",
    "\n",
    "*- [Mark McD](https://linktr.ee/markmcd)*"
   ]
  }
 ],
 "metadata": {
  "colab": {
   "name": "day-1-prompting.ipynb",
   "toc_visible": true
  },
  "kaggle": {
   "accelerator": "none",
   "dataSources": [],
   "dockerImageVersionId": 30786,
   "isGpuEnabled": false,
   "isInternetEnabled": true,
   "language": "python",
   "sourceType": "notebook"
  },
  "kernelspec": {
   "display_name": "Python 3",
   "language": "python",
   "name": "python3"
  },
  "language_info": {
   "codemirror_mode": {
    "name": "ipython",
    "version": 3
   },
   "file_extension": ".py",
   "mimetype": "text/x-python",
   "name": "python",
   "nbconvert_exporter": "python",
   "pygments_lexer": "ipython3",
   "version": "3.10.14"
  },
  "papermill": {
   "default_parameters": {},
   "duration": 118.369746,
   "end_time": "2025-04-02T20:41:30.405925",
   "environment_variables": {},
   "exception": null,
   "input_path": "__notebook__.ipynb",
   "output_path": "__notebook__.ipynb",
   "parameters": {},
   "start_time": "2025-04-02T20:39:32.036179",
   "version": "2.6.0"
  }
 },
 "nbformat": 4,
 "nbformat_minor": 5
}
